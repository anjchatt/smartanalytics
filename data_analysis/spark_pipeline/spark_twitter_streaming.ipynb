{
 "cells": [
  {
   "cell_type": "code",
   "execution_count": null,
   "metadata": {
    "collapsed": false
   },
   "outputs": [],
   "source": [
    "from pyspark import SparkContext\n",
    "sc = SparkContext(\"local[2]\", \"twitter_stream\")"
   ]
  },
  {
   "cell_type": "code",
   "execution_count": null,
   "metadata": {
    "collapsed": false,
    "scrolled": true
   },
   "outputs": [],
   "source": [
    "execfile(\"shell_init.py\")"
   ]
  },
  {
   "cell_type": "code",
   "execution_count": null,
   "metadata": {
    "collapsed": true
   },
   "outputs": [],
   "source": [
    "CLUSTER_TWEET_NUM = 10\n",
    "CLUSTER_MATCH_RATIO = 0.6"
   ]
  },
  {
   "cell_type": "code",
   "execution_count": null,
   "metadata": {
    "collapsed": false
   },
   "outputs": [],
   "source": [
    "from pyspark.streaming.kafka import KafkaUtils\n",
    "from pyspark.streaming import StreamingContext\n",
    "\n",
    "import hashlib\n",
    "import json\n",
    "import re\n",
    "import psycopg2\n",
    "\n",
    "with open('AFINN-111.txt') as f:\n",
    "    sent_dict = [l.split('\\t') for l in f]\n",
    "    sent_dict = {l[0]:int(l[1]) for l in sent_dict}\n",
    "broadcast_sent_dict = sc.broadcast(sent_dict)\n",
    "\n",
    "with open('taxonomy_dict.json') as f:\n",
    "    s = f.read()\n",
    "    taxonomy_dict = eval(s)\n",
    "broadcast_taxonomy_dict = sc.broadcast(taxonomy_dict)\n",
    "\n",
    "with open('english_stopwords.txt') as f:\n",
    "    stopwords = [l[:-1] for l in f]\n",
    "broadcast_stopwords = sc.broadcast(stopwords)"
   ]
  },
  {
   "cell_type": "code",
   "execution_count": null,
   "metadata": {
    "collapsed": false
   },
   "outputs": [],
   "source": [
    "ssc = StreamingContext(sc, 5)\n",
    "zookeeper = (\"localhost:2181\")\n",
    "kafka_stream = KafkaUtils.createStream(ssc, zookeeper, \"twitter\", {\"twitter_api_stream\":1})\n",
    "\n",
    "tweets = kafka_stream.map(lambda (x,y):json.loads(y))\n",
    "\n",
    "tokenize = re.compile('(?u)\\\\b[a-z][a-z]+\\\\b')\n",
    "def tokenize_foo(tweet):\n",
    "    tweet.update({'tokens':tokenize.findall(tweet['text'].lower())})\n",
    "    return tweet\n",
    "tweets = tweets.map(tokenize_foo)\n",
    "\n",
    "def include_sent(tweet):\n",
    "    toks = tweet['tokens']\n",
    "    sent_dict = broadcast_sent_dict.value\n",
    "    sent = [sent_dict[tok] for tok in toks if tok in sent_dict]\n",
    "    sent = sum(sent)/float(len(sent)+2)\n",
    "    tweet.update({'sentiment':sent})\n",
    "    return tweet\n",
    "tweets = tweets.map(include_sent)"
   ]
  },
  {
   "cell_type": "code",
   "execution_count": null,
   "metadata": {
    "collapsed": false
   },
   "outputs": [],
   "source": [
    "def get_taxonomy(t):\n",
    "    text = t['text'].lower()\n",
    "    text = text.replace(\"'\",\"\").replace(\"#\",\"\").replace(\"@\",\"\")\n",
    "    taxonomy_dict = broadcast_taxonomy_dict.value\n",
    "    category = ''\n",
    "    for cat,kws in taxonomy_dict.iteritems():\n",
    "        for kw in kws:\n",
    "            if kw in text:\n",
    "                category = category+'|'+cat+'|'\n",
    "                break\n",
    "    t.update({'categories':category})\n",
    "    return t\n",
    "tweets = tweets.map(get_taxonomy)"
   ]
  },
  {
   "cell_type": "code",
   "execution_count": null,
   "metadata": {
    "collapsed": true
   },
   "outputs": [],
   "source": [
    "def check_for_cluster(tweet, con, cur):\n",
    "    tokens = tweet['tokens']\n",
    "    tokens = [tok for tok in tokens if tok not in broadcast_stopwords.value]\n",
    "    tokens_int = []\n",
    "    for tok in tokens:\n",
    "        m = hashlib.md5()\n",
    "        m.update(tok)\n",
    "        tokens_int.append(int(m.hexdigest()[-7:], 16))\n",
    "    \n",
    "    # match words\n",
    "    tweet_ids = []\n",
    "    tweet_cluster_id = {}\n",
    "    for tok in tokens_int:\n",
    "        cur.execute('select * from word_ids where word_id='+str(tok))\n",
    "        rows = cur.fetchall()\n",
    "        for row in rows:\n",
    "            tweet_cluster_id.update({row[0]:row[2]})\n",
    "            tweet_ids.append(row[0])\n",
    "    tweet_ids_acc = {t:0 for t in set(tweet_ids)}\n",
    "    for tweet_id in tweet_ids:\n",
    "        tweet_ids_acc[tweet_id] += 1\n",
    "    \n",
    "    # Check for cluster\n",
    "    match_threshold = int(len(tokens_int)*CLUSTER_MATCH_RATIO)\n",
    "    cluster_acc = {c:0 for c in set(tweet_cluster_id.values())}\n",
    "    bigest_cluster = {'id':0,'n':0}\n",
    "\n",
    "    for tweet_id,kw_num in tweet_ids_acc.iteritems():\n",
    "        if kw_num > match_threshold:\n",
    "            cluster_id = tweet_cluster_id[tweet_id]\n",
    "            cluster_acc[cluster_id] += 1\n",
    "            if bigest_cluster['n'] < cluster_acc[cluster_id]:\n",
    "                bigest_cluster['id'] = cluster_id\n",
    "                bigest_cluster['n'] = cluster_acc[cluster_id]\n",
    "    \n",
    "    if bigest_cluster['id'] > 0:\n",
    "        # for existed cluster we lower threshold\n",
    "        CLUSTER_TWEET_NUM_2 = CLUSTER_TWEET_NUM*0.8\n",
    "    else:\n",
    "        CLUSTER_TWEET_NUM_2 = CLUSTER_TWEET_NUM\n",
    "    \n",
    "    if bigest_cluster['n'] > CLUSTER_TWEET_NUM_2:\n",
    "        if bigest_cluster['id'] == 0:\n",
    "            ## NEW CLUSTER DETECTED\n",
    "            same_cluster_tweet_ids = [t_id for t_id,kw_n in tweet_ids_acc.iteritems() if kw_n>match_threshold]\n",
    "            \n",
    "            cur.execute('select * from cluster_ids')\n",
    "            all_cluster_ids = cur.fetchall()\n",
    "            if len(all_cluster_ids) > 0:\n",
    "                cluster = max(all_cluster_ids)+1\n",
    "            else:\n",
    "                cluster = 1\n",
    "            \n",
    "            cur.execute(\"UPDATE word_ids SET cluster_id=\"+str(cluster)+\n",
    "                \"WHERE id_str=ANY(%s);\",(same_cluster_tweet_ids,))\n",
    "            cur.execute(\"INSERT INTO cluster_ids VALUES (\"+str(cluster)+\");\")\n",
    "            con.commit()\n",
    "        else:\n",
    "            cluster = bigest_cluster['id']\n",
    "    else:\n",
    "        cluster = 0\n",
    "    \n",
    "    for tok in tokens_int:\n",
    "        query = \"INSERT INTO word_ids (id_str,word_id,cluster_id) VALUES (%s,%s,%s);\"\n",
    "        cur.execute(query, (tweet['id_str'],tok,cluster))\n",
    "    con.commit()\n",
    "    \n",
    "    return cluster"
   ]
  },
  {
   "cell_type": "code",
   "execution_count": null,
   "metadata": {
    "collapsed": false
   },
   "outputs": [],
   "source": [
    "def send_partition(part):\n",
    "    con = psycopg2.connect(\"dbname='twitter' user='postgres'\")\n",
    "    cur = con.cursor()\n",
    "    for tweet in part:\n",
    "        check_for_cluster(tweet, con, cur)\n",
    "        \n",
    "        field_names = ['id_str', 'categories', 'in_reply_to_user_id', 'sentiment', \n",
    "                       'text', 'created_at', 'user_location', 'in_reply_to_status_id',\n",
    "                       'in_reply_to_screen_name', 'retweet_count', 'favorite_count',\n",
    "                       'user_name', 'user_screen_name', 'user_id_str']\n",
    "        cur.execute(\"\"\"\n",
    "        INSERT INTO stream\n",
    "        (\n",
    "        id_str, categories, in_reply_to_user_id, sentiment, text, created_at, user_location, in_reply_to_status_id,\n",
    "        in_reply_to_screen_name, retweet_count, favorite_count, user_name, user_screen_name, user_id_str)\n",
    "        VALUES (%s, %s, %s, %s, %s, %s, %s, %s, %s, %s, %s, %s, %s, %s);\"\"\",[tweet[k] for k in field_names])\n",
    "    con.commit()\n",
    "    con.close()\n",
    "    \n",
    "tweets.foreachRDD(lambda rdd: rdd.foreachPartition(send_partition))"
   ]
  },
  {
   "cell_type": "code",
   "execution_count": null,
   "metadata": {
    "collapsed": false
   },
   "outputs": [],
   "source": [
    "def printo(t):\n",
    "    #t = {k:v for (k,v) in t.iteritems() if k in {'sentiment', 'text','categories'}}\n",
    "    if len(t['categories']) > 0:\n",
    "        return t\n",
    "    else:\n",
    "        return ''\n",
    "#tweets.map(printo).pprint()\n",
    "tweets.pprint()\n",
    "\n",
    "#ssc.awaitTermination(2)\n",
    "ssc.start()"
   ]
  },
  {
   "cell_type": "code",
   "execution_count": null,
   "metadata": {
    "collapsed": false
   },
   "outputs": [],
   "source": [
    "ssc.stop()"
   ]
  }
 ],
 "metadata": {
  "kernelspec": {
   "display_name": "Python 2",
   "language": "python",
   "name": "python2"
  },
  "language_info": {
   "codemirror_mode": {
    "name": "ipython",
    "version": 2
   },
   "file_extension": ".py",
   "mimetype": "text/x-python",
   "name": "python",
   "nbconvert_exporter": "python",
   "pygments_lexer": "ipython2",
   "version": "2.7.11"
  }
 },
 "nbformat": 4,
 "nbformat_minor": 0
}
