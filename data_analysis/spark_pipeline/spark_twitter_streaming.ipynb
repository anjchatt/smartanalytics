{
 "cells": [
  {
   "cell_type": "code",
   "execution_count": null,
   "metadata": {
    "collapsed": false
   },
   "outputs": [],
   "source": [
    "from pyspark import SparkContext\n",
    "sc = SparkContext(\"local[2]\", \"twitter_stream\")"
   ]
  },
  {
   "cell_type": "code",
   "execution_count": null,
   "metadata": {
    "collapsed": false,
    "scrolled": true
   },
   "outputs": [],
   "source": [
    "execfile(\"shell_init.py\")"
   ]
  },
  {
   "cell_type": "code",
   "execution_count": null,
   "metadata": {
    "collapsed": false
   },
   "outputs": [],
   "source": [
    "from pyspark.streaming.kafka import KafkaUtils\n",
    "from pyspark.streaming import StreamingContext\n",
    "\n",
    "import re\n",
    "import json\n",
    "import psycopg2\n",
    "\n",
    "with open('AFINN-111.txt') as f:\n",
    "    sent_dict = [l.split('\\t') for l in f]\n",
    "    sent_dict = {l[0]:int(l[1]) for l in sent_dict}\n",
    "broadcast_sent_dict = sc.broadcast(sent_dict)\n",
    "\n",
    "with open('taxonomy_dict.json') as f:\n",
    "    s = f.read()\n",
    "    taxonomy_dict = eval(s)\n",
    "broadcast_taxonomy_dict = sc.broadcast(taxonomy_dict)"
   ]
  },
  {
   "cell_type": "code",
   "execution_count": null,
   "metadata": {
    "collapsed": false
   },
   "outputs": [],
   "source": [
    "ssc = StreamingContext(sc, 5)\n",
    "zookeeper = (\"localhost:2181\")\n",
    "kafka_stream = KafkaUtils.createStream(ssc, zookeeper, \"twitter\", {\"twitter_api_stream\":1})\n",
    "\n",
    "tweets = kafka_stream.map(lambda (x,y):json.loads(y))\n",
    "\n",
    "tokenize = re.compile('(?u)\\\\b[a-z][a-z]+\\\\b')\n",
    "def tokenize_foo(t):\n",
    "    t.update({'tokens':tokenize.findall(t['text'].lower())})\n",
    "    return t\n",
    "tweets = tweets.map(tokenize_foo)\n",
    "\n",
    "def include_sent(t):\n",
    "    toks = t['tokens']\n",
    "    sent_dict = broadcast_sent_dict.value\n",
    "    sent = [sent_dict[tok] for tok in toks if tok in sent_dict]\n",
    "    sent = sum(sent)/float(len(sent)+2)\n",
    "    t.update({'sentiment':sent})\n",
    "    return t\n",
    "tweets = tweets.map(include_sent)"
   ]
  },
  {
   "cell_type": "code",
   "execution_count": null,
   "metadata": {
    "collapsed": false
   },
   "outputs": [],
   "source": [
    "def get_taxonomy(t):\n",
    "    text = t['text'].lower()\n",
    "    text = text.replace(\"'\",\"\").replace(\"#\",\"\").replace(\"@\",\"\")\n",
    "    taxonomy_dict = broadcast_taxonomy_dict.value\n",
    "    category = ''\n",
    "    for cat,kws in taxonomy_dict.iteritems():\n",
    "        for kw in kws:\n",
    "            if kw in text:\n",
    "                category = category+'|'+cat+'|'\n",
    "                break\n",
    "    t.update({'categories':category})\n",
    "    return t\n",
    "tweets = tweets.map(get_taxonomy)"
   ]
  },
  {
   "cell_type": "code",
   "execution_count": null,
   "metadata": {
    "collapsed": false
   },
   "outputs": [],
   "source": [
    "def send_partition(part):\n",
    "    con = psycopg2.connect(\"dbname='twitter' user='postgres'\")\n",
    "    cur = con.cursor()\n",
    "    for data in part:\n",
    "        field_names = ['id_str', 'categories', 'in_reply_to_user_id', 'sentiment', \n",
    "                       'text', 'created_at', 'user_location', 'in_reply_to_status_id',\n",
    "                       'in_reply_to_screen_name', 'retweet_count', 'favorite_count',\n",
    "                       'user_name', 'user_screen_name', 'user_id_str']\n",
    "        cur.execute(\"\"\"\n",
    "        INSERT INTO stream\n",
    "        (\n",
    "        id_str, categories, in_reply_to_user_id, sentiment, text, created_at, user_location, in_reply_to_status_id,\n",
    "        in_reply_to_screen_name, retweet_count, favorite_count, user_name, user_screen_name, user_id_str)\n",
    "        VALUES (%s, %s, %s, %s, %s, %s, %s, %s, %s, %s, %s, %s, %s, %s);\"\"\",[data[k] for k in field_names])\n",
    "    con.commit()\n",
    "    con.close()\n",
    "    \n",
    "tweets.foreachRDD(lambda rdd: rdd.foreachPartition(send_partition))"
   ]
  },
  {
   "cell_type": "code",
   "execution_count": null,
   "metadata": {
    "collapsed": false
   },
   "outputs": [],
   "source": [
    "def printo(t):\n",
    "    #t = {k:v for (k,v) in t.iteritems() if k in {'sentiment', 'text','categories'}}\n",
    "    if len(t['categories']) > 0:\n",
    "        return t\n",
    "    else:\n",
    "        return ''\n",
    "#tweets.map(printo).pprint()\n",
    "tweets.pprint()\n",
    "\n",
    "#ssc.awaitTermination(2)\n",
    "ssc.start()"
   ]
  },
  {
   "cell_type": "code",
   "execution_count": null,
   "metadata": {
    "collapsed": false
   },
   "outputs": [],
   "source": [
    "ssc.stop()"
   ]
  },
  {
   "cell_type": "code",
   "execution_count": null,
   "metadata": {
    "collapsed": true
   },
   "outputs": [],
   "source": []
  }
 ],
 "metadata": {
  "kernelspec": {
   "display_name": "Python 2",
   "language": "python",
   "name": "python2"
  },
  "language_info": {
   "codemirror_mode": {
    "name": "ipython",
    "version": 2
   },
   "file_extension": ".py",
   "mimetype": "text/x-python",
   "name": "python",
   "nbconvert_exporter": "python",
   "pygments_lexer": "ipython2",
   "version": "2.7.11"
  }
 },
 "nbformat": 4,
 "nbformat_minor": 0
}
