{
 "cells": [
  {
   "cell_type": "code",
   "execution_count": 1,
   "metadata": {
    "collapsed": true
   },
   "outputs": [],
   "source": [
    "%matplotlib inline"
   ]
  },
  {
   "cell_type": "code",
   "execution_count": 7,
   "metadata": {
    "collapsed": true
   },
   "outputs": [],
   "source": [
    "import pandas as pd\n",
    "import numpy as np"
   ]
  },
  {
   "cell_type": "code",
   "execution_count": 3,
   "metadata": {
    "collapsed": true
   },
   "outputs": [],
   "source": [
    "data = pd.read_csv(\"data/churn_prediction.csv\", index_col=0)"
   ]
  },
  {
   "cell_type": "code",
   "execution_count": 4,
   "metadata": {
    "collapsed": false
   },
   "outputs": [],
   "source": [
    "import matplotlib"
   ]
  },
  {
   "cell_type": "code",
   "execution_count": 15,
   "metadata": {
    "collapsed": false
   },
   "outputs": [
    {
     "data": {
      "text/plain": [
       "(array([ 160661.,    7727.,    5508.,    4438.,    3854.,    3429.,\n",
       "           3147.,    2935.,    2758.,    2553.,    2548.,    2379.,\n",
       "           2300.,    2245.,    2300.,    2225.,    2123.,    2152.,\n",
       "           2035.,    2045.,    2034.,    2006.,    2062.,    2060.,\n",
       "           1919.,    1895.,    1895.,    1909.,    1914.,    1946.,\n",
       "           1919.,    2044.,    1988.,    1942.,    2012.,    1986.,\n",
       "           2013.,    1997.,    1965.,    2067.,    1988.,    2101.,\n",
       "           2114.,    2124.,    2125.,    2117.,    2183.,    2206.,\n",
       "           2233.,    2258.,    2255.,    2322.,    2465.,    2418.,\n",
       "           2554.,    2586.,    2595.,    2569.,    2628.,    2710.,\n",
       "           2795.,    2882.,    2901.,    3073.,    3082.,    3230.,\n",
       "           3154.,    3301.,    3373.,    3488.,    3634.,    3772.,\n",
       "           3886.,    4087.,    4259.,    4372.,    4538.,    4724.,\n",
       "           4996.,    5329.,    5512.,    5774.,    6090.,    6482.,\n",
       "           6840.,    7262.,    8044.,    8664.,    9343.,   10067.,\n",
       "          11315.,   12746.,   14248.,   16844.,   19700.,   24145.,\n",
       "          31133.,   43481.,   71466.,  300482.]),\n",
       " array([ 0.  ,  0.01,  0.02,  0.03,  0.04,  0.05,  0.06,  0.07,  0.08,\n",
       "         0.09,  0.1 ,  0.11,  0.12,  0.13,  0.14,  0.15,  0.16,  0.17,\n",
       "         0.18,  0.19,  0.2 ,  0.21,  0.22,  0.23,  0.24,  0.25,  0.26,\n",
       "         0.27,  0.28,  0.29,  0.3 ,  0.31,  0.32,  0.33,  0.34,  0.35,\n",
       "         0.36,  0.37,  0.38,  0.39,  0.4 ,  0.41,  0.42,  0.43,  0.44,\n",
       "         0.45,  0.46,  0.47,  0.48,  0.49,  0.5 ,  0.51,  0.52,  0.53,\n",
       "         0.54,  0.55,  0.56,  0.57,  0.58,  0.59,  0.6 ,  0.61,  0.62,\n",
       "         0.63,  0.64,  0.65,  0.66,  0.67,  0.68,  0.69,  0.7 ,  0.71,\n",
       "         0.72,  0.73,  0.74,  0.75,  0.76,  0.77,  0.78,  0.79,  0.8 ,\n",
       "         0.81,  0.82,  0.83,  0.84,  0.85,  0.86,  0.87,  0.88,  0.89,\n",
       "         0.9 ,  0.91,  0.92,  0.93,  0.94,  0.95,  0.96,  0.97,  0.98,\n",
       "         0.99,  1.  ]),\n",
       " <a list of 100 Patch objects>)"
      ]
     },
     "execution_count": 15,
     "metadata": {},
     "output_type": "execute_result"
    },
    {
     "data": {
      "image/png": "[encoded data removed]",
      "text/plain": [
       "<matplotlib.figure.Figure at 0x17a497b8>"
      ]
     },
     "metadata": {},
     "output_type": "display_data"
    }
   ],
   "source": [
    "matplotlib.pyplot.hist(data[\"365\"], np.arange(0,101)/100.0)"
   ]
  }
 ],
 "metadata": {
  "kernelspec": {
   "display_name": "Python 2",
   "language": "python",
   "name": "python2"
  },
  "language_info": {
   "codemirror_mode": {
    "name": "ipython",
    "version": 2
   },
   "file_extension": ".py",
   "mimetype": "text/x-python",
   "name": "python",
   "nbconvert_exporter": "python",
   "pygments_lexer": "ipython2",
   "version": "2.7.11"
  }
 },
 "nbformat": 4,
 "nbformat_minor": 0
}
