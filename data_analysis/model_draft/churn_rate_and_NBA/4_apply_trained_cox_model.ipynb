{
 "cells": [
  {
   "cell_type": "code",
   "execution_count": 1,
   "metadata": {
    "collapsed": true
   },
   "outputs": [],
   "source": [
    "import pandas as pd\n",
    "from lifelines import CoxPHFitter"
   ]
  },
  {
   "cell_type": "code",
   "execution_count": 2,
   "metadata": {
    "collapsed": true
   },
   "outputs": [],
   "source": [
    "import pickle\n",
    "with open('data/learned_cox_model.pkl','rb') as f:\n",
    "  cf = pickle.load(f)"
   ]
  },
  {
   "cell_type": "code",
   "execution_count": 3,
   "metadata": {
    "collapsed": false
   },
   "outputs": [],
   "source": [
    "data = pd.read_csv(\"data/merged_dataset_python.csv\", index_col=0)"
   ]
  },
  {
   "cell_type": "code",
   "execution_count": 4,
   "metadata": {
    "collapsed": false
   },
   "outputs": [],
   "source": [
    "data[\"is_maried\"] = data[\"is_maried\"].astype(int)"
   ]
  },
  {
   "cell_type": "code",
   "execution_count": 5,
   "metadata": {
    "collapsed": true
   },
   "outputs": [],
   "source": [
    "# Exclude all fields except mentioned here\n",
    "usefields = [\"is_maried\", \"age\", \"work_experience\", \"children_number\", \"has_mortgage\",\n",
    "            \"loan_products_nii\", \"checking_account_balance\", \"deposit_balance\", \"money_market_balance\",\n",
    "            \"investable_asset_indicator\", \"Sentiment\", \"Sentiment_days_passed\", \n",
    "            \"Day_Observed\", \"Event\"]\n",
    "data = data[usefields]"
   ]
  },
  {
   "cell_type": "code",
   "execution_count": 6,
   "metadata": {
    "collapsed": true
   },
   "outputs": [],
   "source": [
    "predict = cf.predict_survival_function(data)"
   ]
  },
  {
   "cell_type": "code",
   "execution_count": 7,
   "metadata": {
    "collapsed": false,
    "scrolled": true
   },
   "outputs": [],
   "source": [
    "res = pd.DataFrame()\n",
    "for i in [30, 60, 90, 120, 150, 180, 210, 240, 270, 300, 330, 365]:\n",
    "    row = predict[:i].tail(1)\n",
    "    row.index = [i]\n",
    "    res = pd.concat([res, row])"
   ]
  },
  {
   "cell_type": "code",
   "execution_count": 8,
   "metadata": {
    "collapsed": false
   },
   "outputs": [],
   "source": [
    "# Define Final churn rate as \n",
    "Final_churn = ((1 - res.loc[365]) > 0.4).astype(int)\n",
    "Final_churn.name = \"Predicted churn\"\n",
    "Actual_churn = data.loc[:,\"Event\"]\n",
    "Actual_churn.name = \"Actual churn\"\n",
    "res = res.append([Final_churn, Actual_churn])"
   ]
  },
  {
   "cell_type": "code",
   "execution_count": 9,
   "metadata": {
    "collapsed": false
   },
   "outputs": [
    {
     "name": "stdout",
     "output_type": "stream",
     "text": [
      "Accuracy = 89.5102%\n"
     ]
    }
   ],
   "source": [
    "print \"Accuracy = {0}%\".format(100.0*sum(Actual_churn == Final_churn)/len(Final_churn))"
   ]
  },
  {
   "cell_type": "code",
   "execution_count": 10,
   "metadata": {
    "collapsed": false
   },
   "outputs": [],
   "source": [
    "res.T.to_csv(\"data/churn_prediction.csv\")"
   ]
  }
 ],
 "metadata": {
  "kernelspec": {
   "display_name": "Python 2",
   "language": "python",
   "name": "python2"
  },
  "language_info": {
   "codemirror_mode": {
    "name": "ipython",
    "version": 2
   },
   "file_extension": ".py",
   "mimetype": "text/x-python",
   "name": "python",
   "nbconvert_exporter": "python",
   "pygments_lexer": "ipython2",
   "version": "2.7.11"
  }
 },
 "nbformat": 4,
 "nbformat_minor": 0
}
