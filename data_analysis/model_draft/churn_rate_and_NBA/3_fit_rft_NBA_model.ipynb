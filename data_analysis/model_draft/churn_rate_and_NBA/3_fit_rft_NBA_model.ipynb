{
 "cells": [
  {
   "cell_type": "code",
   "execution_count": 1,
   "metadata": {
    "collapsed": true
   },
   "outputs": [],
   "source": [
    "import pandas as pd\n",
    "from sklearn.cross_validation import train_test_split\n",
    "from sklearn.ensemble import RandomForestClassifier"
   ]
  },
  {
   "cell_type": "code",
   "execution_count": 2,
   "metadata": {
    "collapsed": true
   },
   "outputs": [],
   "source": [
    "data = pd.read_csv(\"data/merged_dataset_python.csv\", index_col=0)"
   ]
  },
  {
   "cell_type": "code",
   "execution_count": 3,
   "metadata": {
    "collapsed": true
   },
   "outputs": [],
   "source": [
    "data[\"is_maried\"] = data[\"is_maried\"].astype(int)"
   ]
  },
  {
   "cell_type": "code",
   "execution_count": 4,
   "metadata": {
    "collapsed": true
   },
   "outputs": [],
   "source": [
    "train, test = train_test_split(data, random_state=2536, test_size=0.95)\n",
    "#del(data)"
   ]
  },
  {
   "cell_type": "code",
   "execution_count": 5,
   "metadata": {
    "collapsed": true
   },
   "outputs": [],
   "source": [
    "# Exclude all fields except mentioned here\n",
    "usefields = [\"is_maried\", \"age\", \"work_experience\", \"children_number\", \"has_mortgage\",\n",
    "            \"loan_products_nii\", \"checking_account_balance\", \"deposit_balance\", \"money_market_balance\",\n",
    "            \"investable_asset_indicator\", \"Sentiment\", \"Sentiment_days_passed\", \n",
    "            \"NBO_choosen\"]\n",
    "train_fewer = train[usefields]\n",
    "test_fewer = test[usefields].drop(\"NBO_choosen\", axis=1)"
   ]
  },
  {
   "cell_type": "code",
   "execution_count": 6,
   "metadata": {
    "collapsed": false
   },
   "outputs": [],
   "source": [
    "rfc = RandomForestClassifier(n_estimators=21, random_state=241)\n",
    "\n",
    "x = train_fewer.drop(\"NBO_choosen\", axis=1)\n",
    "y = train_fewer[\"NBO_choosen\"]"
   ]
  },
  {
   "cell_type": "code",
   "execution_count": 7,
   "metadata": {
    "collapsed": false
   },
   "outputs": [],
   "source": [
    "rfc = rfc.fit(x, y)"
   ]
  },
  {
   "cell_type": "code",
   "execution_count": 8,
   "metadata": {
    "collapsed": false
   },
   "outputs": [],
   "source": [
    "import pickle    \n",
    "with open('data/learned_rft_NBA_model.pkl','wb') as f:\n",
    "  pickle.dump(rfc, f)"
   ]
  }
 ],
 "metadata": {
  "kernelspec": {
   "display_name": "Python 2",
   "language": "python",
   "name": "python2"
  },
  "language_info": {
   "codemirror_mode": {
    "name": "ipython",
    "version": 2
   },
   "file_extension": ".py",
   "mimetype": "text/x-python",
   "name": "python",
   "nbconvert_exporter": "python",
   "pygments_lexer": "ipython2",
   "version": "2.7.11"
  }
 },
 "nbformat": 4,
 "nbformat_minor": 0
}
