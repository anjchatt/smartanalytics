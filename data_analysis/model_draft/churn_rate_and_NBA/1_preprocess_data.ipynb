{
 "cells": [
  {
   "cell_type": "code",
   "execution_count": 1,
   "metadata": {
    "collapsed": false
   },
   "outputs": [],
   "source": [
    "import sklearn.preprocessing\n",
    "import pandas as pd\n",
    "import numpy as np\n"
   ]
  },
  {
   "cell_type": "code",
   "execution_count": 2,
   "metadata": {
    "collapsed": true
   },
   "outputs": [],
   "source": [
    "files = [\"data/01_personal_data.csv\", \"data/02_bank_comm_data.csv\", \"data/03_bank_fin_data.csv\", \n",
    "         \"data/04_bank_nbo_model_data.csv\", \"data/05_bank_cltv_model_data.csv\", \"data/06_bank_external_data.csv\",\n",
    "        \"data/07_bank_transaction_data.csv\", \"data/08_bank_behavior_data.csv\", \"data/09_cluster_data.csv\"]\n",
    "frames = [ pd.read_csv(f, index_col=0) for f in files ]"
   ]
  },
  {
   "cell_type": "code",
   "execution_count": 3,
   "metadata": {
    "collapsed": false
   },
   "outputs": [],
   "source": [
    "# Correct indicies for files  07 .. 09\n",
    "for i in range(6, 9):\n",
    "    frames[i].index = frames[i].index + 1"
   ]
  },
  {
   "cell_type": "code",
   "execution_count": 4,
   "metadata": {
    "collapsed": false
   },
   "outputs": [],
   "source": [
    "data_joined = pd.concat(frames, axis=1)\n",
    "del frames # explicitly free memory (actual for notebook)"
   ]
  },
  {
   "cell_type": "code",
   "execution_count": 5,
   "metadata": {
    "collapsed": false
   },
   "outputs": [],
   "source": [
    "# Generate simulated sentiment and days_passed (independed from other variables)\n",
    "sentiment = pd.Series(np.random.random_integers(-5, high=5, size=len(data_joined)))\n",
    "sentiment.name = \"Sentiment\"\n",
    "sentiment.index = sentiment.index + 1\n",
    "days_passed = pd.Series(np.random.random_integers(1, high=365, size=len(data_joined)))\n",
    "days_passed.name = \"Sentiment_days_passed\"\n",
    "days_passed.index = days_passed.index + 1"
   ]
  },
  {
   "cell_type": "code",
   "execution_count": 6,
   "metadata": {
    "collapsed": true
   },
   "outputs": [],
   "source": [
    "data_joined = pd.concat([data_joined, sentiment, days_passed], axis=1)"
   ]
  },
  {
   "cell_type": "code",
   "execution_count": 7,
   "metadata": {
    "collapsed": false,
    "scrolled": true
   },
   "outputs": [],
   "source": [
    "# Generate simulated event\n",
    "cor_data = [(\"is_maried\", 1), (\"age\", 1), (\"work_experience\", 1), (\"children_number\", 1), (\"has_mortgage\", 1),\n",
    "            (\"loan_products_nii\", 1), (\"checking_account_balance\", 1), (\"deposit_balance\", 1), (\"money_market_balance\", 1),\n",
    "            (\"investable_asset_indicator\", 1), (\"Sentiment\", 1), (\"Sentiment_days_passed\", 1)]\n",
    "\n",
    "#initialize with double-wighted Sentiment data\n",
    "newVar=2.0 * sklearn.preprocessing.scale(data_joined[\"Sentiment\"].astype(float))\n",
    "\n",
    "#add all corelated values\n",
    "for i,weight in cor_data:\n",
    "    newVar = newVar + weight * sklearn.preprocessing.scale(data_joined[i].astype(float))"
   ]
  },
  {
   "cell_type": "code",
   "execution_count": 8,
   "metadata": {
    "collapsed": false,
    "scrolled": true
   },
   "outputs": [],
   "source": [
    "# Add random error for events\n",
    "newEvent = newVar + 2.0*np.random.randn(len(newVar) )\n",
    "partition = 0.4\n",
    "border = partition*max(newEvent) + (1.0-partition)*min(newEvent)\n",
    "Events=pd.Series((newEvent>border).astype(int))\n",
    "Events.name = \"Event\"\n",
    "Events.index = Events.index + 1"
   ]
  },
  {
   "cell_type": "code",
   "execution_count": 9,
   "metadata": {
    "collapsed": false
   },
   "outputs": [],
   "source": [
    "# Add random error for Day_Observed\n",
    "newDO = newVar + 2.0*np.random.randn(len(newVar) )\n",
    "Day_observed = (newDO - min(newDO))/(max(newDO)-min(newDO))\n",
    "Day_observed = pd.Series((365-Day_observed*275).astype(int))\n",
    "Day_observed.name = \"Day_Observed\"\n",
    "Day_observed.index = Day_observed.index + 1"
   ]
  },
  {
   "cell_type": "code",
   "execution_count": 10,
   "metadata": {
    "collapsed": true
   },
   "outputs": [],
   "source": [
    "data_joined = pd.concat([data_joined, Events, Day_observed], axis=1)"
   ]
  },
  {
   "cell_type": "code",
   "execution_count": 11,
   "metadata": {
    "collapsed": false
   },
   "outputs": [],
   "source": [
    "# Add Next Best Offer simulated variables\n",
    "# each tuple has existent variable name and its correlation coefficients for all five NBO Variables\n",
    "# \"Investment_Discount\", \"HI_Deposit\", \"HI_MM\", \"Premium_account\", \"Refuses_all\"\n",
    "Offers_cor_data = [(\"is_maried\", -1, 1, 1, 1, 0.5), (\"age\", -1, 1, 1, 1, 0.5), (\"work_experience\", -1, 1, 1, 1, 0.5), \n",
    "             (\"children_number\", 1, -1, 1, 1, 1), (\"has_mortgage\", 1, -1, 1, 1, 1), (\"loan_products_nii\", 1, -1, 1, 1, 0.5),\n",
    "             (\"checking_account_balance\", 1, 1, -1, 1, 1), (\"deposit_balance\", 1, 1, -1, 1, 1), \n",
    "             (\"money_market_balance\", 1, 1, -1, 1, 1), (\"investable_asset_indicator\", 1, 1, 1, -1, 1), \n",
    "             (\"Sentiment\", 1, 1, 1, -1, 1), (\"Sentiment_days_passed\", 1, 1, 1, -1, 1)]\n",
    "\n",
    "#initialize value\n",
    "NBO_Vars = np.zeros((5, len(data_joined)))\n",
    "\n",
    "#add all corelated values\n",
    "for i,w0,w1,w2,w3,w4 in Offers_cor_data:\n",
    "    NBO_Vars[0] = NBO_Vars[0] + w0*sklearn.preprocessing.scale(data_joined[i].astype(float))\n",
    "    NBO_Vars[1] = NBO_Vars[1] + w1*sklearn.preprocessing.scale(data_joined[i].astype(float))\n",
    "    NBO_Vars[2] = NBO_Vars[2] + w2*sklearn.preprocessing.scale(data_joined[i].astype(float))\n",
    "    NBO_Vars[3] = NBO_Vars[3] + w3*sklearn.preprocessing.scale(data_joined[i].astype(float))\n",
    "    NBO_Vars[4] = NBO_Vars[4] + w4*sklearn.preprocessing.scale(data_joined[i].astype(float))\n",
    "\n",
    "# Add some randomness\n",
    "NBO_Vars[0] = NBO_Vars[0] + 1*np.random.randn(len(NBO_Vars.T) )\n",
    "NBO_Vars[1] = NBO_Vars[1] + 1*np.random.randn(len(NBO_Vars.T) )\n",
    "NBO_Vars[2] = NBO_Vars[2] + 1*np.random.randn(len(NBO_Vars.T) )\n",
    "NBO_Vars[3] = NBO_Vars[3] + 1*np.random.randn(len(NBO_Vars.T) )\n",
    "NBO_Vars[4] = NBO_Vars[4] + 1*np.random.randn(len(NBO_Vars.T) )"
   ]
  },
  {
   "cell_type": "code",
   "execution_count": 12,
   "metadata": {
    "collapsed": false
   },
   "outputs": [],
   "source": [
    "#NBO_df = pd.DataFrame(NBO_Vars.T, columns=[\"Investment_Discount\", \"HI_Deposit\", \"HI_MM\", \"Premium_account\", \"Refuses_all\"])\n",
    "NBO_df = pd.DataFrame(np.argmax(NBO_Vars, axis=0), columns=[\"NBO_choosen\"])\n",
    "NBO_df.index = NBO_df.index + 1\n",
    "data_joined = pd.concat([data_joined, NBO_df], axis=1)"
   ]
  },
  {
   "cell_type": "code",
   "execution_count": 13,
   "metadata": {
    "collapsed": false
   },
   "outputs": [],
   "source": [
    "data_joined.to_csv(\"data/merged_dataset_python.csv\") # optionally: na_rep=\"NA\""
   ]
  },
  {
   "cell_type": "code",
   "execution_count": 14,
   "metadata": {
    "collapsed": false
   },
   "outputs": [
    {
     "name": "stdout",
     "output_type": "stream",
     "text": [
      "[0 1 2 3 4] [ 29.8048  20.4158  26.266   19.2113   4.3021]\n"
     ]
    }
   ],
   "source": [
    "val, count = np.unique(np.argmax(NBO_Vars, axis=0), return_counts=True)\n",
    "count = 100.0*count/len(NBO_Vars[0])\n",
    "print val, count"
   ]
  }
 ],
 "metadata": {
  "kernelspec": {
   "display_name": "Python 2",
   "language": "python",
   "name": "python2"
  },
  "language_info": {
   "codemirror_mode": {
    "name": "ipython",
    "version": 2
   },
   "file_extension": ".py",
   "mimetype": "text/x-python",
   "name": "python",
   "nbconvert_exporter": "python",
   "pygments_lexer": "ipython2",
   "version": "2.7.11"
  }
 },
 "nbformat": 4,
 "nbformat_minor": 0
}
