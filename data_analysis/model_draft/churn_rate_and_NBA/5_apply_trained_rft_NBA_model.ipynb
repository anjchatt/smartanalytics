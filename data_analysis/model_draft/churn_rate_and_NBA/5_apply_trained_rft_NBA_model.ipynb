{
 "cells": [
  {
   "cell_type": "code",
   "execution_count": 1,
   "metadata": {
    "collapsed": true
   },
   "outputs": [],
   "source": [
    "import pandas as pd\n",
    "from sklearn.ensemble import RandomForestClassifier"
   ]
  },
  {
   "cell_type": "code",
   "execution_count": 2,
   "metadata": {
    "collapsed": true
   },
   "outputs": [],
   "source": [
    "import pickle\n",
    "with open('data/learned_rft_NBA_model.pkl','rb') as f:\n",
    "  rfc = pickle.load(f)"
   ]
  },
  {
   "cell_type": "code",
   "execution_count": 3,
   "metadata": {
    "collapsed": true
   },
   "outputs": [],
   "source": [
    "data = pd.read_csv(\"data/merged_dataset_python.csv\", index_col=0)"
   ]
  },
  {
   "cell_type": "code",
   "execution_count": 4,
   "metadata": {
    "collapsed": true
   },
   "outputs": [],
   "source": [
    "data[\"is_maried\"] = data[\"is_maried\"].astype(int)"
   ]
  },
  {
   "cell_type": "code",
   "execution_count": 5,
   "metadata": {
    "collapsed": true
   },
   "outputs": [],
   "source": [
    "# Exclude all fields except mentioned here\n",
    "usefields = [\"is_maried\", \"age\", \"work_experience\", \"children_number\", \"has_mortgage\",\n",
    "            \"loan_products_nii\", \"checking_account_balance\", \"deposit_balance\", \"money_market_balance\",\n",
    "            \"investable_asset_indicator\", \"Sentiment\", \"Sentiment_days_passed\"]\n",
    "y = data[\"NBO_choosen\"]\n",
    "data = data[usefields]"
   ]
  },
  {
   "cell_type": "code",
   "execution_count": 6,
   "metadata": {
    "collapsed": true
   },
   "outputs": [],
   "source": [
    "predict = rfc.predict_proba(data)"
   ]
  },
  {
   "cell_type": "code",
   "execution_count": 7,
   "metadata": {
    "collapsed": false
   },
   "outputs": [
    {
     "name": "stdout",
     "output_type": "stream",
     "text": [
      "Accuracy = 79.7998%\n"
     ]
    }
   ],
   "source": [
    "y_predict = rfc.predict(data)\n",
    "print \"Accuracy = {0}%\".format(100.0*sum(y == y_predict)/len(y))"
   ]
  },
  {
   "cell_type": "code",
   "execution_count": 8,
   "metadata": {
    "collapsed": false
   },
   "outputs": [],
   "source": [
    "predict = pd.DataFrame(predict*100.0)\n",
    "predict.columns = [\"Investment_Discount\", \"HI_Deposit\", \"HI_MM\", \"Premium_account\", \"Refuses_all\"]\n",
    "predict.index = predict.index + 1"
   ]
  },
  {
   "cell_type": "code",
   "execution_count": 9,
   "metadata": {
    "collapsed": true
   },
   "outputs": [],
   "source": [
    "predict = pd.concat([predict, y], axis=1)"
   ]
  },
  {
   "cell_type": "code",
   "execution_count": 10,
   "metadata": {
    "collapsed": false,
    "scrolled": true
   },
   "outputs": [],
   "source": [
    "predict.to_csv(\"data/NBA_prediction.csv\")"
   ]
  }
 ],
 "metadata": {
  "kernelspec": {
   "display_name": "Python 2",
   "language": "python",
   "name": "python2"
  },
  "language_info": {
   "codemirror_mode": {
    "name": "ipython",
    "version": 2
   },
   "file_extension": ".py",
   "mimetype": "text/x-python",
   "name": "python",
   "nbconvert_exporter": "python",
   "pygments_lexer": "ipython2",
   "version": "2.7.11"
  }
 },
 "nbformat": 4,
 "nbformat_minor": 0
}
