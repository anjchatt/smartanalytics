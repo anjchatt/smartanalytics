{
 "cells": [
  {
   "cell_type": "code",
   "execution_count": null,
   "metadata": {
    "collapsed": false,
    "scrolled": false
   },
   "outputs": [],
   "source": [
    "from pycorenlp import StanfordCoreNLP\n",
    "from nltk import tree\n",
    "import re\n",
    "\n",
    "nlp = StanfordCoreNLP('http://localhost:9000')\n",
    "\n",
    "with open('kwords.json', 'r') as f:\n",
    "    s = ' '.join([l for l in f])\n",
    "    kw = eval(s)\n",
    "params_kw = {kw_['name']:kw_['keywords'] for kw_ in kw if kw_['group'] == 'parameter'}"
   ]
  },
  {
   "cell_type": "code",
   "execution_count": null,
   "metadata": {
    "collapsed": false
   },
   "outputs": [],
   "source": [
    "filter_kw = {kw_['name']:{'keywords':kw_['keywords'],\n",
    "                         'type':kw_['type'],\n",
    "                         'categories':kw_['categories']} \n",
    "                         if 'categories' in kw_ else\n",
    "                         {'keywords':kw_['keywords'],\n",
    "                                     'type':kw_['type'],\n",
    "                                     'condition_kw':kw_['condition_kw']} for kw_ in kw if kw_['group'] == 'parameter'}"
   ]
  },
  {
   "cell_type": "code",
   "execution_count": null,
   "metadata": {
    "collapsed": false
   },
   "outputs": [],
   "source": [
    "def match_param(w):\n",
    "    for p_name, p_vals in params_kw.iteritems():\n",
    "        for p_val in p_vals:\n",
    "            if re.match(p_val,w):\n",
    "                return p_name\n",
    "    return 0"
   ]
  },
  {
   "cell_type": "code",
   "execution_count": null,
   "metadata": {
    "collapsed": true
   },
   "outputs": [],
   "source": [
    "def match_filter(w):\n",
    "    result = []\n",
    "    for p_name, p_vals in filter_kw.iteritems():\n",
    "        \n",
    "        for p_val in p_vals['keywords']:\n",
    "            if re.findall(p_val,w):\n",
    "                result.append(p_name)\n",
    "                break\n",
    "    return result"
   ]
  },
  {
   "cell_type": "code",
   "execution_count": null,
   "metadata": {
    "collapsed": true
   },
   "outputs": [],
   "source": [
    "def find_group(itree,pos=[]):\n",
    "    if not isinstance(itree, unicode):\n",
    "        if itree.label() == 'IN':\n",
    "            if itree[0].lower() == 'by':\n",
    "                return pos\n",
    "        else:\n",
    "            i = 0\n",
    "            for subtree in itree:\n",
    "                res = find_group(subtree,pos+[i])\n",
    "                i += 1\n",
    "                if not res is None:\n",
    "                    return res\n",
    "    return None "
   ]
  },
  {
   "cell_type": "code",
   "execution_count": null,
   "metadata": {
    "collapsed": true
   },
   "outputs": [],
   "source": [
    "## -- Remove or improve -- ##\n",
    "def get_first_nn(itree):\n",
    "    if not isinstance(itree, unicode):\n",
    "        if itree.label() == 'NP':\n",
    "            if len(itree) == 1 and itree[0].label() == 'PRP':\n",
    "                return 0\n",
    "            for subtree in itree:\n",
    "                res = get_first_nn(subtree)\n",
    "                if res:\n",
    "                    return res\n",
    "            return itree\n",
    "        else:\n",
    "            for subtree in itree:\n",
    "                res = get_first_np(subtree)\n",
    "                if res:\n",
    "                    return res\n",
    "    return 0"
   ]
  },
  {
   "cell_type": "code",
   "execution_count": null,
   "metadata": {
    "collapsed": true
   },
   "outputs": [],
   "source": [
    "def get_first_np(itree):\n",
    "    if not isinstance(itree, unicode):\n",
    "        if itree.label() == 'NP':\n",
    "            if len(itree) == 1 and itree[0].label() == 'PRP':\n",
    "                return 0\n",
    "            for subtree in itree:\n",
    "                res = get_first_np(subtree)\n",
    "                if res:\n",
    "                    return res\n",
    "            return itree\n",
    "        else:\n",
    "            for subtree in itree:\n",
    "                res = get_first_np(subtree)\n",
    "                if res:\n",
    "                    return res\n",
    "    return 0"
   ]
  },
  {
   "cell_type": "code",
   "execution_count": null,
   "metadata": {
    "collapsed": true
   },
   "outputs": [],
   "source": [
    "def get_all_nps(itree, l=[]):\n",
    "    if not isinstance(itree, unicode):\n",
    "        if itree.label() == 'NP':\n",
    "            if len(itree) == 1 and itree[0].label() == 'PRP':\n",
    "                return l\n",
    "            l2 = len(l)\n",
    "            for subtree in itree:\n",
    "                l = get_all_nps(subtree, l)\n",
    "            if l2 == len(l):\n",
    "                l.append(itree)\n",
    "        else:\n",
    "            if itree.label() == 'PP' and itree.height() <= 3:\n",
    "                l.append(itree)\n",
    "            else:\n",
    "                for subtree in itree:\n",
    "                    l = get_all_nps(subtree, l)\n",
    "    return l"
   ]
  },
  {
   "cell_type": "code",
   "execution_count": null,
   "metadata": {
    "collapsed": true
   },
   "outputs": [],
   "source": [
    "def preproc(istr):\n",
    "    ostr = re.sub(r'((?=\\D) %|% (?=\\D))', ' percentage ', istr)\n",
    "    #ostr = re.sub(r'(?i)\\b(I|me|we|us|you)\\b', '', istr)\n",
    "    return ostr"
   ]
  },
  {
   "cell_type": "code",
   "execution_count": null,
   "metadata": {
    "collapsed": false
   },
   "outputs": [],
   "source": [
    "mytree = tree.Tree.fromstring(nlp.annotate('Show me distribution by age among males in Texas', \n",
    "             properties={\n",
    "                'annotators': 'parse',\n",
    "                'outputFormat': 'json'\n",
    "                })['sentences'][0]['parse'])"
   ]
  },
  {
   "cell_type": "code",
   "execution_count": null,
   "metadata": {
    "collapsed": false
   },
   "outputs": [],
   "source": [
    "def parse_it(text):\n",
    "    text2 = preproc(text)\n",
    "    \n",
    "    output = nlp.annotate(text2, properties={\n",
    "      'annotators': 'parse',\n",
    "      'outputFormat': 'json'\n",
    "      })\n",
    "    for oresult in output['sentences']:\n",
    "        result = oresult['parse']\n",
    "        mytree = tree.Tree.fromstring(result)\n",
    "        parameters = {}\n",
    "        target = ''\n",
    "        \n",
    "        if mytree[0].label()=='SBARQ':\n",
    "            if mytree[0][0].label()=='WHNP':\n",
    "                if mytree[0][0][0].label()=='WP':\n",
    "                    if mytree[0][0][0][0].lower() == 'who':\n",
    "                        parameters['mode'] = 'model'\n",
    "                        print 'Who'\n",
    "                        print('-- run np search for target --')\n",
    "                    else:\n",
    "                        print 'What1'\n",
    "                        print('-- run np search for target --')\n",
    "                    \n",
    "                    # question body #\n",
    "                elif mytree[0][0][0].label()=='WHNP' and mytree[0][0][0][0].label()=='WHADJP':\n",
    "                    parameters['mode'] = 'query'\n",
    "                    parameters['aggregation'] = 'count'\n",
    "                    st = mytree[0][0][0].flatten()\n",
    "                    for i in range(len(st)):\n",
    "                        target = match_param(st[-i-1])\n",
    "                        if target:\n",
    "                            break\n",
    "                    print('-- run np search for target --')\n",
    "\n",
    "                elif mytree[0][0][0].label()=='WDT':\n",
    "                    parameters['mode'] = 'query'\n",
    "                    print 'What2'\n",
    "                    print('-- run np search for target --')\n",
    "                    \n",
    "                    # search target in question question #\n",
    "                else:\n",
    "                    print('-- run np search for target -- --- no question type ---')\n",
    "            else:\n",
    "                print '__'\n",
    "        \n",
    "        elif (mytree[0].label()=='S' and mytree[0][0].label()=='VP') or mytree[0].label()=='SQ':\n",
    "            if mytree[0].label()!='SQ':\n",
    "                if mytree[0][0][0].label() == 'VB' and mytree[0][0][0] in ['list','table']:\n",
    "                    parameters['view'] = ['table']\n",
    "            print('-- run np search for target -- --- no question type ---')\n",
    "            \n",
    "            # check for internal sentence\n",
    "        elif mytree[0].label()=='NP':\n",
    "            print('-- run np search for target -- --- no question type ---')\n",
    "            \n",
    "            # search target #\n",
    "        else:\n",
    "            print mytree\n",
    "            \n",
    "            # search target #\n",
    "        \n",
    "        if not target:\n",
    "            st = get_first_np(mytree).flatten()\n",
    "            for i in range(len(st)):\n",
    "                target = match_param(st[-i-1])\n",
    "                if target:\n",
    "                    break\n",
    "                    \n",
    "        #nps = get_all_nps(mytree, [])\n",
    "        #nn = get_first_np(mytree)\n",
    "        \n",
    "        group_by = []\n",
    "        address = find_group(mytree)\n",
    "        if address:\n",
    "            group_st = mytree[address[:-1]]\n",
    "            group_st = get_first_np(group_st)\n",
    "            group_st = ' '.join(group_st.flatten())\n",
    "            group_by = match_filter(group_st)\n",
    "        \n",
    "        s = ' '.join(mytree.flatten())\n",
    "        filter_by = match_filter(s)\n",
    "        \n",
    "        filter_by = [tmp for tmp in filter_by if tmp not in group_by]\n",
    "        filter_by = [tmp for tmp in filter_by if tmp not in [target, 'customer']]\n",
    "        \n",
    "        print 'tree:'\n",
    "        print mytree.flatten()\n",
    "        \n",
    "        print 'target:'\n",
    "        print target\n",
    "        \n",
    "        print 'filter:'\n",
    "        print filter_by\n",
    "        \n",
    "        print 'group_by'\n",
    "        print group_by\n",
    "        \n",
    "        print '\\n\\n'"
   ]
  },
  {
   "cell_type": "code",
   "execution_count": null,
   "metadata": {
    "collapsed": false,
    "scrolled": false
   },
   "outputs": [],
   "source": [
    "parse_it(\n",
    "    \"How customers who use credit cards differ from others? \"\n",
    "\n",
    "    \"What is average age of customers by state? \"\n",
    "    'Show us total age of those customers who has credit cards. '\n",
    "    \"Do you know what is average customer age? \"\n",
    "    'How many males vs females % ? '\n",
    "    'Who is my target for selling debt funds? '\n",
    "    'Males by state. '\n",
    "    'Average income of our customers by age. '\n",
    "    \n",
    "    \"\"\"\n",
    "    How many males vs females %?\n",
    "    What % have insurance?\n",
    "    Who is my target for selling debt funds?\n",
    "    Who is my target for selling retirement products?\n",
    "    Show me who my target for selling debt funds is.\n",
    "    Show me age distribution of those customers who have credit card.\n",
    "\n",
    "    Show me gender distribution by states.\n",
    "    Show me gender distribution by age.\n",
    "    Show me gender distribution by income.\n",
    "    Show me gender distribution by employment status.\n",
    "    What is gender distribution of my customers?\n",
    "    What is gender distribution of customers with insurance?\n",
    "\n",
    "    Show me distribution by age among males.\n",
    "    Show me distribution by age among males in Texas.\n",
    "\n",
    "    What is average income by age?\n",
    "\n",
    "    How many customers in Alabama has more than one child?\n",
    "    How many customers in Alabama has more than two children?\n",
    "    How many customers in Alabama has no children?\n",
    "\n",
    "    Show me average number of children by state.\n",
    "\n",
    "    Show me average income by gender.\n",
    "\n",
    "    What average income is by employment status?\n",
    "\n",
    "    Show me 10 customers who buys most debt funds in New York in this year?\n",
    "\n",
    "    List customers from Alabama with largest income.\n",
    "\n",
    "    Who should I target for selling credit cards in Florida?\n",
    "\n",
    "    Who usually buys debit cards?\n",
    "    Who usually buys debit cards among unemployed people?\n",
    "\n",
    "    Show me employment status by gender.\n",
    "    Show me employment status by age for women.\n",
    "\n",
    "    How many percentage has family?\n",
    "    Show me how many % has family by age?\n",
    "\n",
    "    Show me how many customers have no insurance by state.\"\"\")"
   ]
  },
  {
   "cell_type": "markdown",
   "metadata": {},
   "source": [
    "## Question taxonomy\n",
    "Our analyses can parse 6 main types of question:\n",
    "1. **SBARQ**\n",
    "> Direct question introduced by a wh-word or a wh-phrase. Indirect questions and relative clauses should be bracketed as SBAR, not SBARQ.\n",
    "\n",
    "    First subtree structures:\n",
    "    1. __WHNP - WP__  \n",
    "        Noun questions: (Who?, What?)  \n",
    "        _Who_ questions are categorized as modelling commands and data is being processed according to model specific scenario.  \n",
    "        _What_ questions will be processed further  \n",
    "        <br>\n",
    "    2. __WHNP - WHNP - WHADJP__  \n",
    "        _How many_ type of question  \n",
    "        <br>\n",
    "    3. __WHNP - WDT__  \n",
    "        _What_ type of question          \n",
    "        <br>\n",
    "\n",
    "2. **S-VP** or **SQ**\n",
    "    - Simple declarative clause, i.e. one that is not introduced by a (possible empty) subordinating conjunction or a wh-word and that does not exhibit subject-verb inversion.\n",
    "    - VP - Vereb Phrase.  \n",
    "    - Inverted yes/no question, or main clause of a wh-question, following the wh-phrase in SBARQ.\n",
    "    Direct commands, like: _show, display, list_\n",
    "3. **NP**\n",
    "    - Noun pharase  \n",
    "    Simple statement\n",
    "\n",
    "4. **others**\n",
    "    For all other forms there is a set of parsing rules\n",
    "\n",
    "_http://web.mit.edu/6.863/www/PennTreebankTags.html_"
   ]
  },
  {
   "cell_type": "code",
   "execution_count": null,
   "metadata": {
    "collapsed": false
   },
   "outputs": [],
   "source": [
    "isinstance(mytree[pos],unicode)"
   ]
  }
 ],
 "metadata": {
  "kernelspec": {
   "display_name": "Python 2",
   "language": "python",
   "name": "python2"
  },
  "language_info": {
   "codemirror_mode": {
    "name": "ipython",
    "version": 2
   },
   "file_extension": ".py",
   "mimetype": "text/x-python",
   "name": "python",
   "nbconvert_exporter": "python",
   "pygments_lexer": "ipython2",
   "version": "2.7.11"
  }
 },
 "nbformat": 4,
 "nbformat_minor": 0
}
