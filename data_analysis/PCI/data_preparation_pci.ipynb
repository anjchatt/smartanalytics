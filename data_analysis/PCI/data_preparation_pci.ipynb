{
 "cells": [
  {
   "cell_type": "code",
   "execution_count": 1,
   "metadata": {
    "collapsed": false
   },
   "outputs": [],
   "source": [
    "import pandas as pd\n",
    "import numpy as np\n",
    "#import matplotlib.pyplot as plt\n",
    "import random\n",
    "from operator import itemgetter\n",
    "from sqlalchemy import create_engine"
   ]
  },
  {
   "cell_type": "code",
   "execution_count": 2,
   "metadata": {
    "collapsed": false
   },
   "outputs": [],
   "source": [
    "#%matplotlib inline"
   ]
  },
  {
   "cell_type": "code",
   "execution_count": 3,
   "metadata": {
    "collapsed": false,
    "scrolled": true
   },
   "outputs": [],
   "source": [
    "filename = '../../data_marts/customer_data/uci_dataset/bank-full.csv';\n",
    "personal_data = pd.DataFrame.from_csv(filename, sep=\";\", index_col=False)"
   ]
  },
  {
   "cell_type": "code",
   "execution_count": 4,
   "metadata": {
    "collapsed": false
   },
   "outputs": [],
   "source": [
    "filename = '../../data_marts/customer_data/us_states_stats.csv';\n",
    "states_data = pd.DataFrame.from_csv(filename, sep=\";\", index_col=False)"
   ]
  },
  {
   "cell_type": "code",
   "execution_count": 5,
   "metadata": {
    "collapsed": false
   },
   "outputs": [
    {
     "data": {
      "text/plain": [
       "45211"
      ]
     },
     "execution_count": 5,
     "metadata": {},
     "output_type": "execute_result"
    }
   ],
   "source": [
    "personal_data2 = personal_data[[0,1,2,3,4,5,6,7]].copy()\n",
    "personal_data2['income'] = pd.Series(np.zeros(len(personal_data2), dtype=np.int), index=personal_data2.index)\n",
    "personal_data2['state'] = pd.Series(['' for i in range(len(personal_data2))], index=personal_data2.index)\n",
    "personal_data2['gender'] = pd.Series(['' for i in range(len(personal_data2))], index=personal_data2.index)\n",
    "personal_data2.shape[0]"
   ]
  },
  {
   "cell_type": "code",
   "execution_count": 6,
   "metadata": {
    "collapsed": false
   },
   "outputs": [],
   "source": [
    "# generate relevant state data\n",
    "min_st_age = min(states_data['median_age'])\n",
    "max_st_age = max(states_data['median_age'])\n",
    "min_st_inc = min(states_data['per_capita_income'])\n",
    "max_st_inc = max(states_data['per_capita_income'])\n",
    "min_balance = -500\n",
    "max_balance = 2000\n",
    "min_person_age = 25\n",
    "max_person_age = 55\n",
    "age_weight = 0.3\n",
    "income_weight = 0.3\n",
    "\n",
    "random.seed(413) #412\n",
    "state_coef = []\n",
    "for k in range(0, states_data.shape[0]):\n",
    "    cur_state = states_data[k:k+1].to_dict(orient=\"records\")[0]\n",
    "    state_age_coef = 2 * (cur_state['median_age']-(min_st_age+max_st_age)/2.0) / (max_st_age - min_st_age)\n",
    "    state_income_coef = 2 * (cur_state['per_capita_income']-(min_st_inc+max_st_inc)/2.0) / (max_st_inc - min_st_inc)\n",
    "    state_coef.append({\"name\": cur_state['State'], \"age\": state_age_coef, \"income\": state_income_coef})\n",
    "\n",
    "\n",
    "for i in range(0, personal_data2.shape[0]):\n",
    "    row = personal_data2[i:i+1].to_dict(orient=\"records\")[0]\n",
    "    # trim extremal values\n",
    "    if row['balance'] < min_balance: row['balance'] = min_balance\n",
    "    if row['balance'] > max_balance: row['balance'] = max_balance\n",
    "    if row['age'] < min_person_age: row['age'] = min_person_age\n",
    "    if row['age'] > max_person_age: row['age'] = max_person_age\n",
    "        \n",
    "    # could be in range [-1; +1]\n",
    "    person_age_coef = 2 * (row['age']-(min_person_age + max_person_age)/2.0) / (max_person_age - min_person_age)\n",
    "    person_income_coef = 2 * (row['balance']-(min_balance + max_balance)/2.0) / (max_balance - min_balance)\n",
    "    \n",
    "    state = []\n",
    "    for k in range(0, len(state_coef) ):\n",
    "        bonus_by_age = age_weight * person_age_coef * state_coef[k]['age']\n",
    "        bonus_by_income = income_weight * person_income_coef * state_coef[k]['income']\n",
    "        state.append( {\"name\": state_coef[k]['name'], \"value\": random.random()+bonus_by_age+bonus_by_income } )\n",
    "    personal_data2.set_value(i,'state', max(state, key=itemgetter('value'))['name'])    "
   ]
  },
  {
   "cell_type": "code",
   "execution_count": 7,
   "metadata": {
    "collapsed": false
   },
   "outputs": [],
   "source": [
    "# generate gender data\n",
    "min_balance = -500\n",
    "max_balance = 2000\n",
    "income_weight = 0.5\n",
    "base_male_percentage = 0.55\n",
    "\n",
    "random.seed(414)\n",
    "for i in range(0, personal_data2.shape[0]):\n",
    "    row = personal_data2[i:i+1].to_dict(orient=\"records\")[0]\n",
    "    # trim extremal values\n",
    "    if row['balance'] < min_balance: row['balance'] = min_balance\n",
    "    if row['balance'] > max_balance: row['balance'] = max_balance\n",
    "\n",
    "    # could be in range [-1; +1]\n",
    "    person_income_coef = 2 * (row['balance']-(min_balance + max_balance)/2.0) / (max_balance - min_balance)\n",
    "    \n",
    "    bonus_by_income = income_weight * person_income_coef\n",
    "    gender = 'F' if (random.random() - bonus_by_income) > base_male_percentage else 'M' \n",
    "    \n",
    "    personal_data2.set_value(i,'gender', gender)\n"
   ]
  },
  {
   "cell_type": "code",
   "execution_count": 8,
   "metadata": {
    "collapsed": true
   },
   "outputs": [],
   "source": [
    "# generate income data\n",
    "min_balance = -500\n",
    "max_balance = 2000\n",
    "random_spread = 20000\n",
    "\n",
    "random.seed(416)\n",
    "for i in range(0, personal_data2.shape[0]):\n",
    "    row = personal_data2[i:i+1].to_dict(orient=\"records\")[0]\n",
    "    #find state average\n",
    "    for k in range(0, states_data.shape[0]):\n",
    "        if states_data['State'][k] == row['state']:\n",
    "            st_avg_income = states_data['per_capita_income'][k]\n",
    "            break\n",
    "    \n",
    "    # trim extremal values\n",
    "    if row['balance'] < min_balance: row['balance'] = min_balance\n",
    "    if row['balance'] > max_balance: row['balance'] = max_balance\n",
    "\n",
    "    # could be in range [-1; +1]\n",
    "    person_income_coef = 2 * (row['balance']-(min_balance + max_balance)/2.0) / (max_balance - min_balance)\n",
    "    \n",
    "    income = person_income_coef * random_spread * random.random() + st_avg_income\n",
    "    \n",
    "    personal_data2.set_value(i,'income', income)"
   ]
  },
  {
   "cell_type": "code",
   "execution_count": 9,
   "metadata": {
    "collapsed": false
   },
   "outputs": [],
   "source": [
    "# Person who has loan is credit_card buyer\n",
    "#personal_data2.rename(columns = {'loan':'credit_card'}, inplace = True)"
   ]
  },
  {
   "cell_type": "code",
   "execution_count": 15,
   "metadata": {
    "collapsed": true
   },
   "outputs": [],
   "source": [
    "# generate credit_card buyer\n",
    "gender_bonus = 0.1\n",
    "balance_bonus = 0.2\n",
    "state_bonus = 0.2\n",
    "card_treshold = 0.7\n",
    "\n",
    "random.seed(417)\n",
    "for i in range(0, personal_data2.shape[0]):\n",
    "    row = personal_data2[i:i+1].to_dict(orient=\"records\")[0]\n",
    "    bonus = 0.0\n",
    "    if row['gender'] == 'F': bonus += gender_bonus\n",
    "    if row['balance'] > 750: bonus += balance_bonus\n",
    "    if row['state'] > 'M' and row['state'] < 'O': bonus += state_bonus # bonus to M* and N* states\n",
    "\n",
    "    credit_card = 'yes' if (random.random() + bonus) > card_treshold else 'no'\n",
    "    personal_data2.set_value(i,'credit_card', credit_card)"
   ]
  },
  {
   "cell_type": "code",
   "execution_count": 11,
   "metadata": {
    "collapsed": false
   },
   "outputs": [],
   "source": [
    "# we can think of person who do not have housing loan as of debt_funds buyer\n",
    "personal_data2.loc[personal_data2['housing']==\"yes\", 'housing'] = \"tmp\"\n",
    "personal_data2.loc[personal_data2['housing']==\"no\", 'housing'] = \"yes\"\n",
    "personal_data2.loc[personal_data2['housing']==\"tmp\", 'housing'] = \"no\"\n",
    "personal_data2.rename(columns = {'housing':'debt_funds'}, inplace = True)"
   ]
  },
  {
   "cell_type": "code",
   "execution_count": 16,
   "metadata": {
    "collapsed": false
   },
   "outputs": [],
   "source": [
    "engine = create_engine('postgresql+psycopg2:///pci?user=postgres')\n",
    "engine.execute(\"DROP TABLE IF EXISTS pci_customers\")\n",
    "personal_data2.to_sql('pci_customers', engine)"
   ]
  },
  {
   "cell_type": "code",
   "execution_count": 13,
   "metadata": {
    "collapsed": false
   },
   "outputs": [],
   "source": [
    "def insert_dict(d, table_name, engine):\n",
    "    values = ['\\''+v+'\\'' if isinstance(v, str) else v for v in d.values()]\n",
    "    command=(\"insert into \" + table_name + \" (\" + (','.join(['%s']*len(d))) + \") \"+\n",
    "                \"values (\" + (','.join(['%s']*len(d))) + \");\")%tuple(d.keys()+values)\n",
    "    return engine.execute(command)\n",
    "\n",
    "def update_dict(d, table_name, engine):\n",
    "    values = ['\\''+v+'\\'' if isinstance(v, str) else v for v in d.values()]\n",
    "    list_of_pairs = [item for pair in  zip(d.keys(),values) for item in pair]\n",
    "    list_of_pairs = tuple(list_of_pairs)\n",
    "    \n",
    "    command=(\"update \" + table_name + \" set \" + (','.join(['%s=%s']*len(d))) + \" where index=\"+str(d['index']))%list_of_pairs\n",
    "    return engine.execute(command)"
   ]
  },
  {
   "cell_type": "code",
   "execution_count": 14,
   "metadata": {
    "collapsed": false,
    "scrolled": true
   },
   "outputs": [],
   "source": [
    "#customer_data = [{\n",
    "#        'index':2,\n",
    "#        'name':'George Martin',\n",
    "#        'user_screen_name':'gmartin',\n",
    "#        'klout_score':51,\n",
    "#        'followers_count':786,\n",
    "#        'got_reply':1,\n",
    "#        'segment':3\n",
    "#    },{\n",
    "#        'index':3,\n",
    "#        'name':'Katie Hopkins',\n",
    "#        'user_screen_name':'khopkins',\n",
    "#        'klout_score':31,\n",
    "#        'followers_count':315,\n",
    "#        'got_reply':1,\n",
    "#        'segment':4\n",
    "#    }]\n",
    "#\n",
    "#for c in customer_data:\n",
    "#    update_dict(c, 'customers', engine)"
   ]
  }
 ],
 "metadata": {
  "kernelspec": {
   "display_name": "Python 2",
   "language": "python",
   "name": "python2"
  },
  "language_info": {
   "codemirror_mode": {
    "name": "ipython",
    "version": 2
   },
   "file_extension": ".py",
   "mimetype": "text/x-python",
   "name": "python",
   "nbconvert_exporter": "python",
   "pygments_lexer": "ipython2",
   "version": "2.7.5"
  }
 },
 "nbformat": 4,
 "nbformat_minor": 0
}
