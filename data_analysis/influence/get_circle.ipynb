{
 "cells": [
  {
   "cell_type": "code",
   "execution_count": 1,
   "metadata": {
    "collapsed": true
   },
   "outputs": [],
   "source": [
    "from __future__ import print_function\n",
    "\n",
    "import argparse\n",
    "\n",
    "from twitter.oauth import OAuth\n",
    "from twitter import Twitter\n",
    "import os\n",
    "import json"
   ]
  },
  {
   "cell_type": "code",
   "execution_count": 2,
   "metadata": {
    "collapsed": false
   },
   "outputs": [],
   "source": [
    "os.environ[\"https_proxy\"] = os.environ[\"http_proxy\"]\n",
    "\n",
    "token = '2360463842-4dvRToWEoFCFkIj9Dg9fDrREZytBRhpiVan1SVl'\n",
    "token_secret = 'H7xC8EBkiibjbd7yFgLlK5xRH6qq6Byxr8wp07xhwbDCk'\n",
    "consumer_key = 'ogAcB1y6qPLmntrY2KCXvgggF'\n",
    "consumer_secret = '9YN11mY0VWltFiOfxp6EtTu5uY8dVxHMsvMZOC3AMcb850568B'\n",
    "\n",
    "t = Twitter(\n",
    "    auth=OAuth(token, token_secret, consumer_key, consumer_secret))\n",
    "\n",
    "import py2neo\n",
    "py2neo.authenticate('localhost:7474','neo4j','neo4j')\n",
    "graph = py2neo.Graph('http://localhost:7474/db/data')"
   ]
  },
  {
   "cell_type": "code",
   "execution_count": 3,
   "metadata": {
    "collapsed": false
   },
   "outputs": [],
   "source": [
    "def create_user_node_safely(graph, screen_name, id_str=None):\n",
    "    if isinstance(screen_name, str):\n",
    "        screen_name = [screen_name]\n",
    "        id_str = [id_str]\n",
    "    \n",
    "    screen_name_first = filter(lambda (x,y): y is None or y is '', zip(screen_name, id_str))\n",
    "    if len(screen_name_first) > 0:\n",
    "        screen_name_str = ','.join(map(lambda (x,y): '\"'+x+'\"', screen_name_first))\n",
    "        graph.cypher.execute(\"\"\"with [%s] as a1\n",
    "                                foreach (i in range(0,%s) |\n",
    "                                    merge (n:user {screen_name:a1[i]})\n",
    "                                    )\"\"\"%(screen_name_str,len(screen_name_first)-1))\n",
    "    \n",
    "    screen_name_first = filter(lambda (x,y): y is not None and y is not '', zip(screen_name, id_str))\n",
    "    if len(screen_name_first) > 0:\n",
    "        screen_name_str = ','.join(map(lambda (x,y): '\"'+x+'\"', screen_name_first))\n",
    "        id_str_join = ','.join(map(lambda (x,y): '\"'+y+'\"', screen_name_first))\n",
    "        graph.cypher.execute(\"\"\"with [%s] as a1, [%s] as a2\n",
    "                                foreach (i in range(0,%s) |\n",
    "                                    merge (n:user {screen_name:a1[i]})\n",
    "                                    set n.id_str=a2[i])\"\"\"%(screen_name_str, id_str_join,len(screen_name_first)-1))\n"
   ]
  },
  {
   "cell_type": "code",
   "execution_count": 31,
   "metadata": {
    "collapsed": false
   },
   "outputs": [],
   "source": [
    "def get_favorited_tweets_list(graph,screen_name,t):\n",
    "    print(-t0 + time.time())\n",
    "    favorited = t.favorites.list(screen_name=screen_name,count = 200, skip_status=True)\n",
    "    print(-t0 + time.time())\n",
    "    favorited_users = [(f['user']['screen_name'], f['user']['id_str']) for f in favorited]\n",
    "\n",
    "    favorited_users_count = {fu:0 for fu in set(favorited_users)}\n",
    "    for fu in favorited_users:\n",
    "        favorited_users_count[fu] += 1\n",
    "\n",
    "    unames = favorited_users_count.keys()\n",
    "    sn = map(lambda x: x[0], unames)\n",
    "    id_s = map(lambda x: x[1], unames)\n",
    "    create_user_node_safely(graph, sn, id_s)\n",
    "    for usr,cnt in favorited_users_count.iteritems():\n",
    "        graph.cypher.execute(\"\"\"MATCH (a {screen_name:\"%s\"}),(b {screen_name:\"%s\"})\n",
    "                                MERGE (a)-[r:link]->(b)\n",
    "                                SET r.favorited=%s\n",
    "                                \"\"\"%(screen_name, usr[0], favorited_users_count[usr]))"
   ]
  },
  {
   "cell_type": "code",
   "execution_count": 32,
   "metadata": {
    "collapsed": false
   },
   "outputs": [],
   "source": [
    "def get_retweet_list(graph,screen_name,t):\n",
    "    status_rt_list = []\n",
    "    print(-t0 + time.time())\n",
    "    statuses = t.statuses.user_timeline(screen_name=screen_name,count = 200)\n",
    "    print(-t0 + time.time())\n",
    "    replied_to = []\n",
    "    retweeted_who = []\n",
    "    for status in statuses:\n",
    "        if status['retweet_count'] > 0 and 'retweeted_status' not in status:\n",
    "            status_rt_list.append((screen_name, status['id_str']))\n",
    "        if status['in_reply_to_screen_name']:\n",
    "            replied_to.append((status['in_reply_to_screen_name'],\n",
    "                               status['in_reply_to_user_id_str']))\n",
    "        if 'retweeted_status' in status:\n",
    "            u_id = (status['retweeted_status']['user']['screen_name'],\n",
    "                    status['retweeted_status']['user']['id_str'])\n",
    "            retweeted_who.append(u_id)\n",
    "\n",
    "    s_names = map(lambda x:x[0],replied_to)\n",
    "    id_s = map(lambda x:x[0],replied_to)\n",
    "    create_user_node_safely(graph, s_names, id_s)\n",
    "\n",
    "    replied_to_count = {rt:0 for rt in set(replied_to)}\n",
    "    for usr in replied_to:\n",
    "        replied_to_count[usr] += 1\n",
    "\n",
    "    for usr,cnt in replied_to_count.iteritems():\n",
    "        graph.cypher.execute(\"\"\"MATCH (a {screen_name:\"%s\"}),(b {screen_name:\"%s\"})\n",
    "                            MERGE (a)-[r:link]->(b)\n",
    "                            SET r.replied=%s\n",
    "                            \"\"\"%(screen_name, usr[0], replied_to_count[usr]))\n",
    "\n",
    "    s_names = map(lambda x:x[0],retweeted_who)\n",
    "    id_s = map(lambda x:x[1],retweeted_who)\n",
    "    create_user_node_safely(graph, s_names, id_s)\n",
    "\n",
    "    retweeted_who_count = {rt:0 for rt in set(retweeted_who)}\n",
    "    for usr in retweeted_who:\n",
    "        retweeted_who_count[usr] += 1\n",
    "\n",
    "    for usr,cnt in retweeted_who_count.iteritems():\n",
    "        graph.cypher.execute(\"\"\"MATCH (a {screen_name:\"%s\"}),(b {screen_name:\"%s\"})\n",
    "                            MERGE (a)-[r:link]->(b)\n",
    "                            SET r.retweeted=%s\n",
    "                            \"\"\"%(screen_name, usr[0], retweeted_who_count[usr]))\n",
    "    print(-t0 + time.time())\n",
    "    return status_rt_list"
   ]
  },
  {
   "cell_type": "code",
   "execution_count": 33,
   "metadata": {
    "collapsed": false
   },
   "outputs": [],
   "source": [
    "def get_profile_data_fav(screen_name):\n",
    "    create_user_node_safely(graph, screen_name)\n",
    "    get_favorited_tweets_list(graph,screen_name,t)\n",
    "    r = graph.cypher.execute(\"\"\"MATCH (a {screen_name:\"%s\"})-[r:link]->(p2)\n",
    "                                where r.favorited > 0\n",
    "                                return p2.screen_name, r.favorited\"\"\"%(screen_name,))\n",
    "    user_dict = {ri[0]:ri[1] for ri in r}\n",
    "    \n",
    "    return user_dict"
   ]
  },
  {
   "cell_type": "code",
   "execution_count": 34,
   "metadata": {
    "collapsed": false
   },
   "outputs": [],
   "source": [
    "def get_profile_data_conv(screen_name):\n",
    "    create_user_node_safely(graph, screen_name)\n",
    "    \n",
    "    status_rt_list = get_retweet_list(graph,screen_name,t)\n",
    "\n",
    "    r = graph.cypher.execute(\"\"\"MATCH (a {screen_name:\"%s\"})-[r:link]->(p2)\n",
    "                                where r.retweeted > 0\n",
    "                                return p2.screen_name, r.retweeted\"\"\"%(screen_name,))\n",
    "    user_dict = {ri[0]:ri[1] for ri in r}\n",
    "    r = graph.cypher.execute(\"\"\"MATCH (a {screen_name:\"%s\"})-[r:link]->(p2)\n",
    "                                where r.replied > 0\n",
    "                                return p2.screen_name, r.replied\"\"\"%(screen_name,))\n",
    "    for ri in r:\n",
    "        if ri[0] in user_dict:\n",
    "            user_dict[ri[0]] += ri[1]\n",
    "        else:\n",
    "            user_dict.update({ri[0]:ri[1]})\n",
    "    \n",
    "    return status_rt_list, user_dict"
   ]
  },
  {
   "cell_type": "code",
   "execution_count": 29,
   "metadata": {
    "collapsed": true
   },
   "outputs": [],
   "source": [
    "import time"
   ]
  },
  {
   "cell_type": "code",
   "execution_count": 35,
   "metadata": {
    "collapsed": false
   },
   "outputs": [
    {
     "name": "stdout",
     "output_type": "stream",
     "text": [
      "0.0107431411743\n",
      "3.53776311874\n",
      "3.97906112671\n",
      "8.51295495033\n",
      "9.94171309471\n",
      "9.96212005615\n"
     ]
    }
   ],
   "source": [
    "screen_name = 'gunjan_amit'\n",
    "status_rt_list = []\n",
    "\n",
    "t0 = time.time()\n",
    "user_dict = get_profile_data_fav(screen_name)\n",
    "\n",
    "status_rt_list, user_dict2 = get_profile_data_conv(screen_name)\n",
    "print(time.time() - t0)\n",
    "\n",
    "\n",
    "for k,v in user_dict2.iteritems():\n",
    "    if k in user_dict:\n",
    "        user_dict[k] += v\n",
    "    else:\n",
    "        user_dict[k] = v\n",
    "\n",
    "user_list = [k for k,v in user_dict.iteritems() if v > 1]"
   ]
  },
  {
   "cell_type": "code",
   "execution_count": 176,
   "metadata": {
    "collapsed": false
   },
   "outputs": [],
   "source": [
    "for i in range(len(user_list)):\n",
    "    user = str(user_list[0])\n",
    "    get_profile_data_fav(user)\n",
    "    get_profile_data_conv(user)\n",
    "    del user_list[0]"
   ]
  },
  {
   "cell_type": "code",
   "execution_count": 195,
   "metadata": {
    "collapsed": false
   },
   "outputs": [],
   "source": [
    "res = graph.cypher.execute(\"\"\"MATCH (p0)-[r]->(p {screen_name : \"%s\"}) return r\"\"\"%(screen_name,))\n"
   ]
  },
  {
   "cell_type": "code",
   "execution_count": 197,
   "metadata": {
    "collapsed": false
   },
   "outputs": [
    {
     "data": {
      "text/plain": [
       "   | r                                                                                                                                           \n",
       "---+----------------------------------------------------------------------------------------------------------------------------------------------\n",
       " 1 | (:user {id_str:\"83348075\",screen_name:\"nitinsksharma\"})-[r1114:link {favorited:2}]->(:user {id_str:\"gunjan_amit\",screen_name:\"gunjan_amit\"})\n",
       " 2 | (:user {id_str:\"140020888\",screen_name:\"Smartlogic_com\"})-[r2609:link {replied:1}]->(:user {id_str:\"gunjan_amit\",screen_name:\"gunjan_amit\"})\n",
       " 3 | (:user {id_str:\"gunjan_amit\",screen_name:\"gunjan_amit\"})-[r330:link {favorited:1}]->(:user {id_str:\"gunjan_amit\",screen_name:\"gunjan_amit\"})"
      ]
     },
     "execution_count": 197,
     "metadata": {},
     "output_type": "execute_result"
    }
   ],
   "source": [
    "len(res)\n",
    "res"
   ]
  }
 ],
 "metadata": {
  "kernelspec": {
   "display_name": "Python 2",
   "language": "python",
   "name": "python2"
  },
  "language_info": {
   "codemirror_mode": {
    "name": "ipython",
    "version": 2
   },
   "file_extension": ".py",
   "mimetype": "text/x-python",
   "name": "python",
   "nbconvert_exporter": "python",
   "pygments_lexer": "ipython2",
   "version": "2.7.11"
  }
 },
 "nbformat": 4,
 "nbformat_minor": 0
}
