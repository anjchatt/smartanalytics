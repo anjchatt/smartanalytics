{
 "cells": [
  {
   "cell_type": "code",
   "execution_count": 1,
   "metadata": {
    "collapsed": true
   },
   "outputs": [],
   "source": [
    "from __future__ import print_function\n",
    "\n",
    "import argparse\n",
    "\n",
    "from twitter.oauth import OAuth\n",
    "from twitter import Twitter\n",
    "#import hadoopy\n",
    "import json\n",
    "import os\n",
    "import json"
   ]
  },
  {
   "cell_type": "code",
   "execution_count": 2,
   "metadata": {
    "collapsed": true
   },
   "outputs": [],
   "source": [
    "os.environ[\"https_proxy\"] = os.environ[\"http_proxy\"]"
   ]
  },
  {
   "cell_type": "code",
   "execution_count": 3,
   "metadata": {
    "collapsed": false
   },
   "outputs": [],
   "source": [
    "token = '2360463842-4dvRToWEoFCFkIj9Dg9fDrREZytBRhpiVan1SVl'\n",
    "token_secret = 'H7xC8EBkiibjbd7yFgLlK5xRH6qq6Byxr8wp07xhwbDCk'\n",
    "consumer_key = 'ogAcB1y6qPLmntrY2KCXvgggF'\n",
    "consumer_secret = '9YN11mY0VWltFiOfxp6EtTu5uY8dVxHMsvMZOC3AMcb850568B'\n",
    "\n",
    "t = Twitter(\n",
    "    auth=OAuth(token, token_secret, consumer_key, consumer_secret))"
   ]
  },
  {
   "cell_type": "code",
   "execution_count": 8,
   "metadata": {
    "collapsed": false
   },
   "outputs": [],
   "source": [
    "screen_name = 'gunjan_amit'"
   ]
  },
  {
   "cell_type": "code",
   "execution_count": 11,
   "metadata": {
    "collapsed": false
   },
   "outputs": [],
   "source": [
    "statuses = t.statuses.user_timeline(screen_name=screen_name)"
   ]
  },
  {
   "cell_type": "code",
   "execution_count": 14,
   "metadata": {
    "collapsed": false
   },
   "outputs": [
    {
     "name": "stdout",
     "output_type": "stream",
     "text": [
      "@thoughtspot Do the product connects to real time twitter API.\n",
      "Mobile Banking Outperforming Online Banking By A Longshot - https://t.co/fLq5Ew0vvm via @Perficient_FS\n",
      "The Yellow Banyan workshop https://t.co/VGDEVVWgGz\n",
      "How To Match Bank Customer Retention Strategies to the Customer Lifecycle https://t.co/fLsC4iV165 via @@genroe\n",
      "RT @stevenn: Digital disruption in Banking: it is Now (Dutch). https://t.co/WpIiTAtCXS\n",
      "RT @IBMAnalytics: Uncover fraudulent trends within your big data that reduce security threats with analytics: https://t.co/ijKEhbALfH https…\n",
      "@BoozAllen Not able to download the \"The Field Guide to Data Science\"\n",
      "My week on Twitter: 2 Mentions, 890 Mention Reach. How's your audience growing? via https://t.co/id4duY1JTU\n",
      "@Smartlogic_com great...will do\n",
      "RT @Lewis_Tierney: What #MachineLearning Can do for Your Ret'n Marketing ROI -&gt; Nice, our clients see benefits too| https://t.co/iZlC9WJBpc…\n",
      "RT @UnileverFoundry: We're looking for the best 50 marketing-tech startups to take to Cannes Lions Innovation. Join the Foundry 50 here: ht…\n",
      "@Smartlogic_com Do you have expertise in building taxonomy for financial services?\n",
      "RT @analyticbridge: 34 External #MachineLearning Resources and Related Articles https://t.co/rjQ6wsrqET https://t.co/KsSt8eq3mc\n",
      "RT @Pentaho: https://t.co/ptmjn75Ug2\n",
      "RT @IBMAnalytics: Here's what happened when we took #WatsonAnalytics for Social Media out for a spin: https://t.co/beTqpfsyxr https://t.co/…\n",
      "RT @IBMbigdata: IBM announces a new suite of cloud-based tools to address today’s data challenges. https://t.co/M4pzuGTRU7\n",
      "RT @KirkDBorne: What's Hot now + What's Next for #DataScience? Find out in the new Field Guide by @BoozAllen https://t.co/HLz6EMFFOg https:…\n",
      "RT @KirkDBorne: Where's Waldo? I mean... can you identify your favorite Top #BigData Influencers? https://t.co/bXb8y3T5Dz https://t.co/0zWd…\n",
      "ACM Homepage https://t.co/o5MhBtoT63\n",
      "Have you tried #Kamanja - An open-source, real-time decisioning engine ?\n"
     ]
    }
   ],
   "source": [
    "for s in statuses:\n",
    "    print(s['text'])"
   ]
  },
  {
   "cell_type": "code",
   "execution_count": 29,
   "metadata": {
    "collapsed": false
   },
   "outputs": [],
   "source": [
    "import py2neo\n",
    "py2neo.authenticate('localhost:7474','neo4j','neo4j')\n",
    "graph = py2neo.Graph('http://localhost:7474/db/data')"
   ]
  },
  {
   "cell_type": "code",
   "execution_count": 9,
   "metadata": {
    "collapsed": false
   },
   "outputs": [
    {
     "data": {
      "text/plain": [
       "(<Relationship graph=u'http://localhost:7474/db/data/' ref=u'relationship/3' start=u'node/6' end=u'node/7' type=u'KNOWS' properties={}>,)"
      ]
     },
     "execution_count": 9,
     "metadata": {},
     "output_type": "execute_result"
    }
   ],
   "source": [
    "alice = py2neo.Node(\"Person\", name=\"Alice\")\n",
    "bob = py2neo.Node(\"Person\", name=\"Bob\")\n",
    "alice_knows_bob = py2neo.Relationship(alice, \"KNOWS\", bob)\n",
    "\n",
    "graph.create(alice_knows_bob)"
   ]
  },
  {
   "cell_type": "code",
   "execution_count": null,
   "metadata": {
    "collapsed": true
   },
   "outputs": [],
   "source": []
  },
  {
   "cell_type": "code",
   "execution_count": 24,
   "metadata": {
    "collapsed": false
   },
   "outputs": [
    {
     "data": {
      "text/plain": []
     },
     "execution_count": 24,
     "metadata": {},
     "output_type": "execute_result"
    }
   ],
   "source": [
    "#graph.cypher.execute(\"MATCH (p) DETACH DELETE p\")\n",
    "#graph.cypher.execute(\"MATCH (a)-[c]->(b) DELETE c\")\n",
    "#graph.cypher.execute(\"MATCH (b)-[a]->(b) RETURN a\")\n",
    "#graph.cypher.execute(\"MATCH (p) RETURN p\")\n",
    "\n",
    "#graph.cypher.execute(\"CREATE (b:Person { name:'Alice',sex:'F' })\")\n",
    "#graph.cypher.execute(\"CREATE (b:Person { name:'Bob',sex:'M' })\")\n",
    "\n",
    "#graph.cypher.execute(\"\"\"\n",
    "#MATCH (a:Person),(b:Person)\n",
    "#WHERE a.name = 'Alice' AND b.name = 'Bob'\n",
    "#CREATE (a)-[r:knows{how:'good'}]->(b)\n",
    "#RETURN r\n",
    "#\"\"\")\n",
    "\n",
    "#graph.cypher.execute(\"MATCH (a:Person)-[r]->(b:Person) DELETE r\")\n",
    "\n",
    "#                     -[c:knows{how:'good'}]->(b:Person{name:'BOB',sex:'M'})\")"
   ]
  },
  {
   "cell_type": "code",
   "execution_count": 27,
   "metadata": {
    "collapsed": true
   },
   "outputs": [],
   "source": [
    "a = graph.cypher.execute(\"MATCH (p) DELETE p\")"
   ]
  },
  {
   "cell_type": "code",
   "execution_count": null,
   "metadata": {
    "collapsed": false
   },
   "outputs": [],
   "source": []
  },
  {
   "cell_type": "code",
   "execution_count": 18,
   "metadata": {
    "collapsed": false
   },
   "outputs": [
    {
     "data": {
      "text/plain": [
       "u'Alice'"
      ]
     },
     "execution_count": 18,
     "metadata": {},
     "output_type": "execute_result"
    }
   ],
   "source": [
    "a[0][0]['name']"
   ]
  }
 ],
 "metadata": {
  "kernelspec": {
   "display_name": "Python 2",
   "language": "python",
   "name": "python2"
  },
  "language_info": {
   "codemirror_mode": {
    "name": "ipython",
    "version": 2
   },
   "file_extension": ".py",
   "mimetype": "text/x-python",
   "name": "python",
   "nbconvert_exporter": "python",
   "pygments_lexer": "ipython2",
   "version": "2.7.11"
  }
 },
 "nbformat": 4,
 "nbformat_minor": 0
}
