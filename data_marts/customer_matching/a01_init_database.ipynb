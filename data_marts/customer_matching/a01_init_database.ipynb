{
 "cells": [
  {
   "cell_type": "code",
   "execution_count": 69,
   "metadata": {
    "collapsed": true
   },
   "outputs": [],
   "source": [
    "TEST_MODE = True"
   ]
  },
  {
   "cell_type": "code",
   "execution_count": 1,
   "metadata": {
    "collapsed": false
   },
   "outputs": [
    {
     "name": "stdout",
     "output_type": "stream",
     "text": [
      "Welcome to\n",
      "      ____              __\n",
      "     / __/__  ___ _____/ /__\n",
      "    _\\ \\/ _ \\/ _ `/ __/  '_/\n",
      "   /__ / .__/\\_,_/_/ /_/\\_\\   version 1.4.1\n",
      "      /_/\n",
      "\n",
      "Using Python version 2.7.11 (default, Feb 15 2016 00:04:52)\n",
      "SparkContext available as sc, HiveContext available as sqlContext.\n"
     ]
    }
   ],
   "source": [
    "execfile('shell_init.py')"
   ]
  },
  {
   "cell_type": "code",
   "execution_count": 2,
   "metadata": {
    "collapsed": false
   },
   "outputs": [],
   "source": [
    "from pyspark.sql import SQLContext\n",
    "sqlContext = SQLContext(sc)"
   ]
  },
  {
   "cell_type": "code",
   "execution_count": 32,
   "metadata": {
    "collapsed": false
   },
   "outputs": [],
   "source": [
    "raw = sc.textFile(\"/user/smartanalytics/customer_data/01_personal_data.csv\")"
   ]
  },
  {
   "cell_type": "code",
   "execution_count": 61,
   "metadata": {
    "collapsed": false
   },
   "outputs": [],
   "source": [
    "header = (raw.zipWithIndex()\n",
    "            .filter(lambda (x,y): y==0)\n",
    "            .collect()[0])\n",
    "header = header[0].split(',')"
   ]
  },
  {
   "cell_type": "code",
   "execution_count": 71,
   "metadata": {
    "collapsed": false
   },
   "outputs": [],
   "source": [
    "field_names = ['', 'state', 'name']\n",
    "field_names2 = ['id', 'state', 'name']\n",
    "selected_ids = [h in field_names for h in header]"
   ]
  },
  {
   "cell_type": "code",
   "execution_count": 66,
   "metadata": {
    "collapsed": false
   },
   "outputs": [],
   "source": [
    "def drop_columns(s):\n",
    "    s = s.split(',')\n",
    "    s2 = [si for si,val in zip(s,selected_ids) if val]\n",
    "    return s2\n",
    "\n",
    "customers = (raw.zipWithIndex()\n",
    "            .filter(lambda (x,y): y>0)\n",
    "            .map(lambda (x,y): x)\n",
    "            .map(drop_columns))"
   ]
  },
  {
   "cell_type": "code",
   "execution_count": 73,
   "metadata": {
    "collapsed": false
   },
   "outputs": [],
   "source": [
    "if TEST_MODE:\n",
    "    field_names2 = field_names2+['twitter_id']\n",
    "    customers = customers.map(lambda x:x+[''])"
   ]
  },
  {
   "cell_type": "code",
   "execution_count": 77,
   "metadata": {
    "collapsed": false
   },
   "outputs": [],
   "source": [
    "customers_df = customers.toDF(field_names2)\n",
    "url = \"jdbc:postgresql://localhost/customer?user=postgres\"\n",
    "customers_df.write.jdbc(url=url, table=\"customers\", mode=\"overwrite\")"
   ]
  }
 ],
 "metadata": {
  "kernelspec": {
   "display_name": "Python 2",
   "language": "python",
   "name": "python2"
  },
  "language_info": {
   "codemirror_mode": {
    "name": "ipython",
    "version": 2
   },
   "file_extension": ".py",
   "mimetype": "text/x-python",
   "name": "python",
   "nbconvert_exporter": "python",
   "pygments_lexer": "ipython2",
   "version": "2.7.11"
  }
 },
 "nbformat": 4,
 "nbformat_minor": 0
}
