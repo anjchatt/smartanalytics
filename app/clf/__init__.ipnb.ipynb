{
 "cells": [
  {
   "cell_type": "code",
   "execution_count": 1,
   "metadata": {
    "collapsed": true
   },
   "outputs": [],
   "source": [
    "import select\n",
    "import psycopg2\n",
    "import psycopg2.extensions\n"
   ]
  },
  {
   "cell_type": "code",
   "execution_count": null,
   "metadata": {
    "collapsed": false
   },
   "outputs": [],
   "source": [
    "from flask import Flask, render_template\n",
    "from flask_sockets import Sockets\n",
    "from json import dumps\n",
    "import gevent\n",
    "import time\n",
    "from gevent.pool import Pool\n",
    "\n",
    "col_names = ['id_str', 'categories', 'in_reply_to_user_id', 'sentiment', 'text', 'created_at',\n",
    "            'user_location','in_reply_to_status_id','in_reply_to_screen_name',\n",
    "            'retweet_count','favorite_count','user_name','user_screen_name','user_id_str']\n",
    "\n",
    "app = Flask(__name__)\n",
    "sockets = Sockets(app)\n",
    "\n",
    "@sockets.route('/twitter_stream')\n",
    "def twitter_stream(ws):\n",
    "    j = 0\n",
    "    \n",
    "    conn = psycopg2.connect(database=\"twitter\", user=\"postgres\")\n",
    "    conn.set_isolation_level(psycopg2.extensions.ISOLATION_LEVEL_AUTOCOMMIT)\n",
    "    curs = conn.cursor()\n",
    "    curs.execute(\"LISTEN new_tweet;\")\n",
    "    \n",
    "    while not ws.closed:\n",
    "        conn.poll()\n",
    "        t0 = time.time()\n",
    "        if conn.notifies:\n",
    "            notify = conn.notifies.pop(0)\n",
    "            \n",
    "            n = len(notify)\n",
    "            curs.execute(\"select * from stream order by id_str desc limit %s;\"%n)\n",
    "            rec = curs.fetchall()\n",
    "            for reci in rec:\n",
    "                rec_json = dumps(dict(zip(col_names,reci)))\n",
    "                ws.send(rec_json)\n",
    "            j+=1\n",
    "        if time.time() - t0 > 3600:\n",
    "            print(\"1hr timeout\")\n",
    "            break\n",
    "        else:\n",
    "            gevent.sleep()\n",
    "    conn.close()\n",
    "    \n",
    "@app.route('/')\n",
    "def homepage():\n",
    "    try:\n",
    "        return render_template(\"index.html\")\n",
    "    except Exception, e:\n",
    "        return str(e)\n",
    "\n",
    "if __name__ == \"__main__\":\n",
    "    from gevent import pywsgi\n",
    "    from geventwebsocket.handler import WebSocketHandler\n",
    "    server = pywsgi.WSGIServer(('', 8090), app, handler_class=WebSocketHandler, spawn=Pool())\n",
    "    server.serve_forever()"
   ]
  },
  {
   "cell_type": "code",
   "execution_count": null,
   "metadata": {
    "collapsed": true
   },
   "outputs": [],
   "source": []
  }
 ],
 "metadata": {
  "kernelspec": {
   "display_name": "Python 2",
   "language": "python",
   "name": "python2"
  },
  "language_info": {
   "codemirror_mode": {
    "name": "ipython",
    "version": 2
   },
   "file_extension": ".py",
   "mimetype": "text/x-python",
   "name": "python",
   "nbconvert_exporter": "python",
   "pygments_lexer": "ipython2",
   "version": "2.7.11"
  }
 },
 "nbformat": 4,
 "nbformat_minor": 0
}
