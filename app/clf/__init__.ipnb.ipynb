{
 "cells": [
  {
   "cell_type": "code",
   "execution_count": 32,
   "metadata": {
    "collapsed": true
   },
   "outputs": [],
   "source": [
    "import select\n",
    "import psycopg2\n",
    "import psycopg2.extensions\n",
    "\n",
    "field_names =  ['user_screen_name', 'user_name', 'id_str', 'created_at', \n",
    "                'sentiment', 'categories', 'text', 'klout_score', 'segment_id',\n",
    "               'got_reply', 'followers_count']\n",
    "\n",
    "segment_dict = {0:'-', 1:'Mass Market', 2:'Young Professional',\n",
    "                3:'Mass Afluent', 4:'Affluent', 5:'High Net Worth'}\n",
    "\n",
    "def get_priority_key(tw_l):\n",
    "    tw_l[0]['segment_id']/2 + "
   ]
  },
  {
   "cell_type": "code",
   "execution_count": null,
   "metadata": {
    "collapsed": false
   },
   "outputs": [],
   "source": [
    "from flask import Flask, render_template, jsonify\n",
    "from flask_sockets import Sockets\n",
    "from json import dumps\n",
    "import gevent\n",
    "import time\n",
    "from gevent.pool import Pool\n",
    "\n",
    "\n",
    "app = Flask(__name__)\n",
    "sockets = Sockets(app)\n",
    "\n",
    "@sockets.route('/twitter_stream')\n",
    "def twitter_stream(ws):\n",
    "    j = 0\n",
    "    \n",
    "    conn = psycopg2.connect(database=\"twitter\", user=\"postgres\")\n",
    "    conn.set_isolation_level(psycopg2.extensions.ISOLATION_LEVEL_AUTOCOMMIT)\n",
    "    curs = conn.cursor()\n",
    "    curs.execute(\"LISTEN new_tweet;\")\n",
    "    \n",
    "    while not ws.closed:\n",
    "        conn.poll()\n",
    "        t0 = time.time()\n",
    "        if conn.notifies:\n",
    "            notify = conn.notifies.pop(0)\n",
    "            \n",
    "            ws.send(\"{notification:\\'new tweet\\'}\")\n",
    "            j+=1\n",
    "        if time.time() - t0 > 3600:\n",
    "            print(\"1hr timeout\")\n",
    "            break\n",
    "        else:\n",
    "            gevent.sleep()\n",
    "    conn.close()\n",
    "\n",
    "@app.route('/data', methods=['GET'])\n",
    "def provide_data():\n",
    "    #https://twitter.com/statuses/ID\n",
    "    conn = psycopg2.connect(database=\"twitter\", user=\"postgres\")\n",
    "    conn.set_isolation_level(psycopg2.extensions.ISOLATION_LEVEL_AUTOCOMMIT)\n",
    "    curs = conn.cursor()\n",
    "\n",
    "    curs.execute(\"\"\"select stream.user_screen_name, stream.user_name, stream.id_str,\n",
    "                stream.created_at, stream.sentiment, stream.categories, stream.text,\n",
    "                customers.klout_score, customers.segment, customers.got_reply, customers.followers_count\n",
    "                from stream\n",
    "                INNER JOIN customers\n",
    "                ON customers.user_screen_name=stream.user_screen_name\n",
    "                where stream.user_screen_name in \n",
    "                (\n",
    "                    select tmp.user_screen_name\n",
    "                    from (\n",
    "                        select user_screen_name as user_screen_name, max(id_str) as max_id_str\n",
    "                        from stream\n",
    "                        group by user_screen_name\n",
    "                    ) tmp\n",
    "                    left join (\n",
    "                        select user_screen_name, got_reply\n",
    "                        from customers\n",
    "                    ) tmp2\n",
    "                    on tmp.user_screen_name=tmp2.user_screen_name\n",
    "                    order by tmp2.got_reply asc, tmp.max_id_str desc limit 10\n",
    "                )\n",
    "                order by customers.got_reply desc, stream.id_str desc\n",
    "                ;\"\"\")\n",
    "    rec = curs.fetchall()\n",
    "    conn.close()\n",
    "    \n",
    "    user_blocks = {v[0]:[] for v in rec}\n",
    "    for row in rec:\n",
    "        if len(user_blocks[row[0]]) < 5:\n",
    "            user_blocks[row[0]] += [{k:v for k,v in zip(field_names, row)}]\n",
    "            user_blocks[row[0]][-1]['id_str'] = str(user_blocks[row[0]][-1]['id_str'])\n",
    "            user_blocks[row[0]][-1]['segment'] = segment_dict[user_blocks[row[0]][-1]['segment_id']]\n",
    "    \n",
    "    return jsonify({'data':user_blocks.values()})\n",
    "\n",
    "@app.route('/')\n",
    "def homepage():\n",
    "    try:\n",
    "        return render_template(\"index.html\")\n",
    "    except Exception, e:\n",
    "        return str(e)\n",
    "\n",
    "if __name__ == \"__main__\":\n",
    "    from gevent import pywsgi\n",
    "    from geventwebsocket.handler import WebSocketHandler\n",
    "    server = pywsgi.WSGIServer(('', 8090), app, handler_class=WebSocketHandler, spawn=Pool())\n",
    "    server.serve_forever()"
   ]
  },
  {
   "cell_type": "code",
   "execution_count": null,
   "metadata": {
    "collapsed": true
   },
   "outputs": [],
   "source": [
    "df"
   ]
  }
 ],
 "metadata": {
  "kernelspec": {
   "display_name": "Python 2",
   "language": "python",
   "name": "python2"
  },
  "language_info": {
   "codemirror_mode": {
    "name": "ipython",
    "version": 2
   },
   "file_extension": ".py",
   "mimetype": "text/x-python",
   "name": "python",
   "nbconvert_exporter": "python",
   "pygments_lexer": "ipython2",
   "version": "2.7.11"
  }
 },
 "nbformat": 4,
 "nbformat_minor": 0
}
