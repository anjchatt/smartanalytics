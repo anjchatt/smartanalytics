{
 "cells": [
  {
   "cell_type": "code",
   "execution_count": null,
   "metadata": {
    "collapsed": false
   },
   "outputs": [],
   "source": [
    "import select\n",
    "import psycopg2\n",
    "import psycopg2.extensions\n",
    "\n",
    "conn = psycopg2.connect(database=\"twitter\", user=\"postgres\")\n",
    "\n",
    "conn.set_isolation_level(psycopg2.extensions.ISOLATION_LEVEL_AUTOCOMMIT)\n",
    "\n",
    "curs = conn.cursor()\n",
    "curs.execute(\"LISTEN new_tweet;\")\n",
    "\n",
    "while 1:\n",
    "    conn.poll()\n",
    "    if conn.notifies:\n",
    "        notify = conn.notifies.pop(0)\n",
    "        print \"Got it\""
   ]
  },
  {
   "cell_type": "code",
   "execution_count": null,
   "metadata": {
    "collapsed": false
   },
   "outputs": [],
   "source": [
    "from flask import Flask\n",
    "from flask_sockets import Sockets\n",
    "from json import dumps\n",
    "import time\n",
    "\n",
    "app = Flask(__name__)\n",
    "sockets = Sockets(app)\n",
    "\n",
    "@sockets.route('/twitter_stream')\n",
    "def twitter_stream(ws):\n",
    "    j = 0\n",
    "    while not ws.closed:\n",
    "        ws.send('tweet : '+str(j))\n",
    "        j+=1\n",
    "        time.sleep(5)\n",
    "        print ws.closed\n",
    "\n",
    "\n",
    "if __name__ == \"__main__\":\n",
    "    from gevent import pywsgi\n",
    "    from geventwebsocket.handler import WebSocketHandler\n",
    "    server = pywsgi.WSGIServer(('', 8091), app, handler_class=WebSocketHandler)\n",
    "    server.serve_forever()"
   ]
  }
 ],
 "metadata": {
  "kernelspec": {
   "display_name": "Python 2",
   "language": "python",
   "name": "python2"
  },
  "language_info": {
   "codemirror_mode": {
    "name": "ipython",
    "version": 2
   },
   "file_extension": ".py",
   "mimetype": "text/x-python",
   "name": "python",
   "nbconvert_exporter": "python",
   "pygments_lexer": "ipython2",
   "version": "2.7.11"
  }
 },
 "nbformat": 4,
 "nbformat_minor": 0
}
