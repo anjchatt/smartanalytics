{
 "cells": [
  {
   "cell_type": "code",
   "execution_count": 1,
   "metadata": {
    "collapsed": true
   },
   "outputs": [],
   "source": [
    "import pandas as pd\n",
    "import numpy as np"
   ]
  },
  {
   "cell_type": "code",
   "execution_count": 2,
   "metadata": {
    "collapsed": false,
    "scrolled": true
   },
   "outputs": [],
   "source": [
    "filename = '../data/data_merging/data/01_personal_data.csv';\n",
    "personal_data = pd.DataFrame.from_csv(filename)"
   ]
  },
  {
   "cell_type": "code",
   "execution_count": 3,
   "metadata": {
    "collapsed": false
   },
   "outputs": [],
   "source": [
    "personal_data2 = personal_data[[0,2]].copy()\n",
    "personal_data2['klout_score'] = pd.Series(np.zeros(len(personal_data2)), index=personal_data2.index)\n",
    "personal_data2['user_screen_name'] = pd.Series(['' for i in range(len(personal_data2))], index=personal_data2.index)"
   ]
  },
  {
   "cell_type": "code",
   "execution_count": 4,
   "metadata": {
    "collapsed": false
   },
   "outputs": [],
   "source": [
    "customer_segment = []\n",
    "with open('../data/data_merging/data/03_bank_fin_data.csv') as f:\n",
    "    ff = 0\n",
    "    for l in f:\n",
    "        if ff == 0:\n",
    "            ff = 1\n",
    "            continue\n",
    "        l2 = l.split(',')\n",
    "        customer_segment.append([int(l2[0]),int(l2[9])])"
   ]
  },
  {
   "cell_type": "code",
   "execution_count": 5,
   "metadata": {
    "collapsed": false
   },
   "outputs": [],
   "source": [
    "personal_data2['got_reply'] = pd.Series(np.zeros(len(personal_data2)), \n",
    "                                       index=personal_data2.index)\n",
    "\n",
    "personal_data2['segment'] = pd.Series([v[1] for v in customer_segment], \n",
    "                                       index=[v[0] for v in customer_segment])\n",
    "\n",
    "personal_data2['followers_count'] = pd.Series(np.zeros(len(personal_data2)), \n",
    "                                       index=personal_data2.index)"
   ]
  },
  {
   "cell_type": "code",
   "execution_count": 6,
   "metadata": {
    "collapsed": false
   },
   "outputs": [],
   "source": [
    "customer_data = {'user_screen_name':'capgbanktest',\n",
    "                 'segment':5,\n",
    "                 'got_reply':0,\n",
    "                 'state':'NY',\n",
    "                 'klout_score':39,\n",
    "                 'followers_count':1049,\n",
    "                 'name':'John Snow'\n",
    "                }\n",
    "for k,v in customer_data.iteritems():\n",
    "    personal_data2.loc[1,k] = v\n"
   ]
  },
  {
   "cell_type": "code",
   "execution_count": 7,
   "metadata": {
    "collapsed": false
   },
   "outputs": [],
   "source": [
    "from sqlalchemy import create_engine\n",
    "engine = create_engine('postgresql+psycopg2:///twitter?user=postgres')\n",
    "personal_data2[:1000].to_sql('customers', engine)"
   ]
  },
  {
   "cell_type": "code",
   "execution_count": 11,
   "metadata": {
    "collapsed": false
   },
   "outputs": [
    {
     "data": {
      "text/plain": [
       "[{'categories': '|charges|',\n",
       "  'created_at': '03-01-2016',\n",
       "  'favorite_count': 0,\n",
       "  'id_str': '1',\n",
       "  'in_reply_to_screen_name': '',\n",
       "  'in_reply_to_status_id': '',\n",
       "  'in_reply_to_user_id': '',\n",
       "  'is_agent_reply': 0,\n",
       "  'retweet_count': 0,\n",
       "  'sentiment': -2,\n",
       "  'text': 'Had double charge on my account $175.00 x2 for Bill Pay. My is now negative funds. App transaction error went and did it twice. #CapBankHelp',\n",
       "  'user_id_str': '1',\n",
       "  'user_location': 'NYC',\n",
       "  'user_name': 'George Martin',\n",
       "  'user_screen_name': 'gmartin'},\n",
       " {'categories': '',\n",
       "  'created_at': '03-01-2016',\n",
       "  'favorite_count': 0,\n",
       "  'id_str': '2',\n",
       "  'in_reply_to_screen_name': '',\n",
       "  'in_reply_to_status_id': '',\n",
       "  'in_reply_to_user_id': '',\n",
       "  'is_agent_reply': 1,\n",
       "  'retweet_count': 0,\n",
       "  'sentiment': 0,\n",
       "  'text': \"Sorry to hear that, we fixed that and will make sure that it won' happen again\",\n",
       "  'user_id_str': '1',\n",
       "  'user_location': 'NYC',\n",
       "  'user_name': 'George Martin',\n",
       "  'user_screen_name': 'gmartin'}]"
      ]
     },
     "execution_count": 11,
     "metadata": {},
     "output_type": "execute_result"
    }
   ],
   "source": [
    "stream_data = [{\n",
    "    'id_str':'1',\n",
    "    'categories':'|charges|',\n",
    "    'in_reply_to_user_id':'',\n",
    "    'sentiment':-2,\n",
    "    'text':'Had double charge on my account $175.00 x2 for Bill Pay. My is now negative funds. App transaction error went and did it twice. #CapBankHelp',\n",
    "    'created_at':'03-01-2016',\n",
    "    'user_location':'NYC',\n",
    "    'in_reply_to_status_id':'',\n",
    "    'in_reply_to_screen_name':'',\n",
    "    'retweet_count':0,\n",
    "    'favorite_count':0,\n",
    "    'user_name':'George Martin',\n",
    "    'user_screen_name':'gmartin',\n",
    "    'user_id_str':'1',\n",
    "    'is_agent_reply':0\n",
    "},{\n",
    "    'id_str':'2',\n",
    "    'categories':'',\n",
    "    'in_reply_to_user_id':'',\n",
    "    'sentiment':0,\n",
    "    'text':'Sorry to hear that, we fixed that and will make sure that it won\\' happen again',\n",
    "    'created_at':'03-01-2016',\n",
    "    'user_location':'NYC',\n",
    "    'in_reply_to_status_id':'',\n",
    "    'in_reply_to_screen_name':'',\n",
    "    'retweet_count':0,\n",
    "    'favorite_count':0,\n",
    "    'user_name':'George Martin',\n",
    "    'user_screen_name':'gmartin',\n",
    "    'user_id_str':'1',\n",
    "    'is_agent_reply':1\n",
    "}]\n",
    "\n",
    "stream_data"
   ]
  }
 ],
 "metadata": {
  "kernelspec": {
   "display_name": "Python 2",
   "language": "python",
   "name": "python2"
  },
  "language_info": {
   "codemirror_mode": {
    "name": "ipython",
    "version": 2
   },
   "file_extension": ".py",
   "mimetype": "text/x-python",
   "name": "python",
   "nbconvert_exporter": "python",
   "pygments_lexer": "ipython2",
   "version": "2.7.5"
  }
 },
 "nbformat": 4,
 "nbformat_minor": 0
}
