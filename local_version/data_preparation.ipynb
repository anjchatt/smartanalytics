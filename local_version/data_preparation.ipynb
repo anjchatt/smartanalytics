{
 "cells": [
  {
   "cell_type": "code",
   "execution_count": null,
   "metadata": {
    "collapsed": true
   },
   "outputs": [],
   "source": [
    "import pandas as pd\n",
    "import numpy as np"
   ]
  },
  {
   "cell_type": "code",
   "execution_count": null,
   "metadata": {
    "collapsed": false,
    "scrolled": true
   },
   "outputs": [],
   "source": [
    "filename = '../data/data_merging/data/01_personal_data.csv';\n",
    "personal_data = pd.DataFrame.from_csv(filename)"
   ]
  },
  {
   "cell_type": "code",
   "execution_count": null,
   "metadata": {
    "collapsed": false
   },
   "outputs": [],
   "source": [
    "personal_data2 = personal_data[[0,2]].copy()\n",
    "personal_data2['klout_score'] = pd.Series(np.zeros(len(personal_data2)), index=personal_data2.index)\n",
    "personal_data2['user_screen_name'] = pd.Series(['' for i in range(len(personal_data2))], index=personal_data2.index)"
   ]
  },
  {
   "cell_type": "code",
   "execution_count": null,
   "metadata": {
    "collapsed": false
   },
   "outputs": [],
   "source": [
    "customer_segment = []\n",
    "with open('../data/data_merging/data/03_bank_fin_data.csv') as f:\n",
    "    ff = 0\n",
    "    for l in f:\n",
    "        if ff == 0:\n",
    "            ff = 1\n",
    "            continue\n",
    "        l2 = l.split(',')\n",
    "        customer_segment.append([int(l2[0]),int(l2[9])])"
   ]
  },
  {
   "cell_type": "code",
   "execution_count": null,
   "metadata": {
    "collapsed": false
   },
   "outputs": [],
   "source": [
    "personal_data2['got_reply'] = pd.Series(np.zeros(len(personal_data2)), \n",
    "                                       index=personal_data2.index)\n",
    "\n",
    "personal_data2['segment'] = pd.Series([v[1] for v in customer_segment], \n",
    "                                       index=[v[0] for v in customer_segment])\n",
    "\n",
    "personal_data2['followers_count'] = pd.Series(np.zeros(len(personal_data2)), \n",
    "                                       index=personal_data2.index)"
   ]
  },
  {
   "cell_type": "code",
   "execution_count": null,
   "metadata": {
    "collapsed": false
   },
   "outputs": [],
   "source": [
    "customer_data = {'user_screen_name':'capgbanktest',\n",
    "                 'segment':5,\n",
    "                 'got_reply':0,\n",
    "                 'state':'NY',\n",
    "                 'klout_score':39,\n",
    "                 'followers_count':1049,\n",
    "                 'name':'John Snow'\n",
    "                }\n",
    "for k,v in customer_data.iteritems():\n",
    "    personal_data2.loc[1,k] = v\n"
   ]
  },
  {
   "cell_type": "code",
   "execution_count": null,
   "metadata": {
    "collapsed": false
   },
   "outputs": [],
   "source": [
    "from sqlalchemy import create_engine\n",
    "engine = create_engine('postgresql+psycopg2:///twitter?user=postgres')\n",
    "#personal_data2[:1000].to_sql('customers', engine)"
   ]
  },
  {
   "cell_type": "code",
   "execution_count": null,
   "metadata": {
    "collapsed": false
   },
   "outputs": [],
   "source": [
    "stream_data = [{\n",
    "    'id_str':'101',\n",
    "    'categories':'|charges|',\n",
    "    'in_reply_to_user_id':'',\n",
    "    'sentiment':-2,\n",
    "    'text':'Had double charge on my account $175.00 x2 for Bill Pay. My is now negative funds. App transaction error went and did it twice. #CapBankHelp',\n",
    "    'created_at':'03-01-2016',\n",
    "    'user_location':'NYC',\n",
    "    'in_reply_to_status_id':'',\n",
    "    'in_reply_to_screen_name':'',\n",
    "    'retweet_count':0,\n",
    "    'favorite_count':0,\n",
    "    'user_name':'George Martin',\n",
    "    'user_screen_name':'gmartin',\n",
    "    'user_id_str':'1',\n",
    "    'is_agent_reply':0\n",
    "},{\n",
    "    'id_str':'102',\n",
    "    'categories':'',\n",
    "    'in_reply_to_user_id':'',\n",
    "    'sentiment':-2,\n",
    "    'text':'Sorry to hear that, we fixed that and will make sure that it will not happen again',\n",
    "    'created_at':'03-01-2016',\n",
    "    'user_location':'NYC',\n",
    "    'in_reply_to_status_id':'',\n",
    "    'in_reply_to_screen_name':'',\n",
    "    'retweet_count':0,\n",
    "    'favorite_count':0,\n",
    "    'user_name':'George Martin',\n",
    "    'user_screen_name':'gmartin',\n",
    "    'user_id_str':'1',\n",
    "    'is_agent_reply':1\n",
    "},{\n",
    "    'id_str':'103',\n",
    "    'categories':'',\n",
    "    'in_reply_to_user_id':'',\n",
    "    'sentiment':2,\n",
    "    'text':'Thanks! Appreciate fast response!',\n",
    "    'created_at':'03-01-2016',\n",
    "    'user_location':'NYC',\n",
    "    'in_reply_to_status_id':'',\n",
    "    'in_reply_to_screen_name':'',\n",
    "    'retweet_count':0,\n",
    "    'favorite_count':0,\n",
    "    'user_name':'George Martin',\n",
    "    'user_screen_name':'gmartin',\n",
    "    'user_id_str':'1',\n",
    "    'is_agent_reply':0\n",
    "},{\n",
    "    'id_str':'104',\n",
    "    'categories':'|support|',\n",
    "    'in_reply_to_user_id':'',\n",
    "    'sentiment':-2,\n",
    "    'text':'Unbelievable. I was told I had to wait 3-5 business days to even speak to a technician.',\n",
    "    'created_at':'04-01-2016',\n",
    "    'user_location':'NYC',\n",
    "    'in_reply_to_status_id':'',\n",
    "    'in_reply_to_screen_name':'',\n",
    "    'retweet_count':0,\n",
    "    'favorite_count':0,\n",
    "    'user_name':'Katie Hopkins',\n",
    "    'user_screen_name':'khopkins',\n",
    "    'user_id_str':'2',\n",
    "    'is_agent_reply':0\n",
    "},{\n",
    "    'id_str':'105',\n",
    "    'categories':'',\n",
    "    'in_reply_to_user_id':'',\n",
    "    'sentiment':-2,\n",
    "    'text':'Hi, Katie. We apologize for the inconvenience. Let us call you.',\n",
    "    'created_at':'04-01-2016',\n",
    "    'user_location':'NYC',\n",
    "    'in_reply_to_status_id':'',\n",
    "    'in_reply_to_screen_name':'',\n",
    "    'retweet_count':0,\n",
    "    'favorite_count':0,\n",
    "    'user_name':'Katie Hopkins',\n",
    "    'user_screen_name':'khopkins',\n",
    "    'user_id_str':'2',\n",
    "    'is_agent_reply':1\n",
    "},{\n",
    "    'id_str':'106',\n",
    "    'categories':'',\n",
    "    'in_reply_to_user_id':'',\n",
    "    'sentiment':2.5,\n",
    "    'text':'Got a call from your team and my problem was solved in 5 minutes. Nice job!',\n",
    "    'created_at':'04-01-2016',\n",
    "    'user_location':'NYC',\n",
    "    'in_reply_to_status_id':'',\n",
    "    'in_reply_to_screen_name':'',\n",
    "    'retweet_count':0,\n",
    "    'favorite_count':0,\n",
    "    'user_name':'Katie Hopkins',\n",
    "    'user_screen_name':'khopkins',\n",
    "    'user_id_str':'2',\n",
    "    'is_agent_reply':0\n",
    "}]"
   ]
  },
  {
   "cell_type": "code",
   "execution_count": null,
   "metadata": {
    "collapsed": true
   },
   "outputs": [],
   "source": [
    "customer_data = [{\n",
    "        'index':2,\n",
    "        'name':'George Martin',\n",
    "        'user_screen_name':'gmartin',\n",
    "        'klout_score':51,\n",
    "        'followers_count':786,\n",
    "        'got_reply':1,\n",
    "        'segment':3\n",
    "    },{\n",
    "        'index':3,\n",
    "        'name':'Katie Hopkins',\n",
    "        'user_screen_name':'khopkins',\n",
    "        'klout_score':31,\n",
    "        'followers_count':315,\n",
    "        'got_reply':1,\n",
    "        'segment':4\n",
    "    }]"
   ]
  },
  {
   "cell_type": "code",
   "execution_count": null,
   "metadata": {
    "collapsed": false
   },
   "outputs": [],
   "source": [
    "def insert_dict(d, table_name, engine):\n",
    "    values = ['\\''+v+'\\'' if isinstance(v, str) else v for v in d.values()]\n",
    "    command=(\"insert into \" + table_name + \" (\" + (','.join(['%s']*len(d))) + \") \"+\n",
    "                \"values (\" + (','.join(['%s']*len(d))) + \");\")%tuple(d.keys()+values)\n",
    "    return engine.execute(command)\n",
    "\n",
    "def update_dict(d, table_name, engine):\n",
    "    values = ['\\''+v+'\\'' if isinstance(v, str) else v for v in d.values()]\n",
    "    list_of_pairs = [item for pair in  zip(d.keys(),values) for item in pair]\n",
    "    list_of_pairs = tuple(list_of_pairs)\n",
    "    \n",
    "    command=(\"update \" + table_name + \" set \" + (','.join(['%s=%s']*len(d))) + \" where index=\"+str(d['index']))%list_of_pairs\n",
    "    return engine.execute(command)"
   ]
  },
  {
   "cell_type": "code",
   "execution_count": null,
   "metadata": {
    "collapsed": false,
    "scrolled": true
   },
   "outputs": [],
   "source": [
    "engine.execute('delete from stream;')\n",
    "for tweet in stream_data:\n",
    "    insert_dict(tweet, 'stream', engine)\n",
    "\n",
    "for c in customer_data:\n",
    "    update_dict(c, 'customers', engine)"
   ]
  }
 ],
 "metadata": {
  "kernelspec": {
   "display_name": "Python 2",
   "language": "python",
   "name": "python2"
  },
  "language_info": {
   "codemirror_mode": {
    "name": "ipython",
    "version": 2
   },
   "file_extension": ".py",
   "mimetype": "text/x-python",
   "name": "python",
   "nbconvert_exporter": "python",
   "pygments_lexer": "ipython2",
   "version": "2.7.5"
  }
 },
 "nbformat": 4,
 "nbformat_minor": 0
}
