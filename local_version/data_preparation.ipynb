{
 "cells": [
  {
   "cell_type": "code",
   "execution_count": 1,
   "metadata": {
    "collapsed": true
   },
   "outputs": [],
   "source": [
    "import pandas as pd\n",
    "import numpy as np"
   ]
  },
  {
   "cell_type": "code",
   "execution_count": 2,
   "metadata": {
    "collapsed": true
   },
   "outputs": [],
   "source": [
    "filename = '../data/data_merging/data/01_personal_data.csv';\n",
    "personal_data = pd.DataFrame.from_csv(filename)"
   ]
  },
  {
   "cell_type": "code",
   "execution_count": 3,
   "metadata": {
    "collapsed": false
   },
   "outputs": [],
   "source": [
    "personal_data2 = personal_data[[0,2]].copy()\n",
    "personal_data2['klout_score'] = pd.Series(np.zeros(len(personal_data2)), index=personal_data2.index)\n",
    "personal_data2['user_screen_name'] = pd.Series(['' for i in range(len(personal_data2))], index=personal_data2.index)"
   ]
  },
  {
   "cell_type": "code",
   "execution_count": 4,
   "metadata": {
    "collapsed": false
   },
   "outputs": [],
   "source": [
    "customer_segment = []\n",
    "with open('../data/data_merging/data/03_bank_fin_data.csv') as f:\n",
    "    ff = 0\n",
    "    for l in f:\n",
    "        if ff == 0:\n",
    "            ff = 1\n",
    "            continue\n",
    "        l2 = l.split(',')\n",
    "        customer_segment.append([int(l2[0]),int(l2[9])])"
   ]
  },
  {
   "cell_type": "code",
   "execution_count": 10,
   "metadata": {
    "collapsed": false
   },
   "outputs": [],
   "source": [
    "personal_data2['got_reply'] = pd.Series(np.zeros(len(personal_data2)), \n",
    "                                       index=personal_data2.index)"
   ]
  },
  {
   "cell_type": "code",
   "execution_count": 11,
   "metadata": {
    "collapsed": false
   },
   "outputs": [],
   "source": [
    "personal_data2['segment'] = pd.Series([v[1] for v in customer_segment], \n",
    "                                       index=[v[0] for v in customer_segment])"
   ]
  },
  {
   "cell_type": "code",
   "execution_count": 14,
   "metadata": {
    "collapsed": false
   },
   "outputs": [],
   "source": [
    "personal_data2['followers_count'] = pd.Series(np.zeros(len(personal_data2)), \n",
    "                                       index=personal_data2.index)"
   ]
  },
  {
   "cell_type": "code",
   "execution_count": 16,
   "metadata": {
    "collapsed": false
   },
   "outputs": [],
   "source": [
    "from sqlalchemy import create_engine\n",
    "create_engine('postgresql+psycopg2:///twitter?user=postgres')\n",
    "personal_data2.to_sql('customers', engine)"
   ]
  },
  {
   "cell_type": "code",
   "execution_count": null,
   "metadata": {
    "collapsed": true
   },
   "outputs": [],
   "source": [
    "update customers set user_screen_name='CapGBank' where index=1;\n",
    "update customers set user_screen_name='capgbanktest' where index=2;"
   ]
  }
 ],
 "metadata": {
  "kernelspec": {
   "display_name": "Python 2",
   "language": "python",
   "name": "python2"
  },
  "language_info": {
   "codemirror_mode": {
    "name": "ipython",
    "version": 2
   },
   "file_extension": ".py",
   "mimetype": "text/x-python",
   "name": "python",
   "nbconvert_exporter": "python",
   "pygments_lexer": "ipython2",
   "version": "2.7.11"
  }
 },
 "nbformat": 4,
 "nbformat_minor": 0
}
