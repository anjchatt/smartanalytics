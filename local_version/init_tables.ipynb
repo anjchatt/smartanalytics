{
 "cells": [
  {
   "cell_type": "code",
   "execution_count": null,
   "metadata": {
    "collapsed": true
   },
   "outputs": [],
   "source": [
    "import psycopg2\n",
    "\n",
    "con = psycopg2.connect(\"dbname='twitter' user='postgres'\")\n",
    "cur = con.cursor()\n",
    "cur.execute(\"\"\"\n",
    "        CREATE TABLE stream\n",
    "        (\n",
    "        id_str BIGINT,\n",
    "        categories varchar(255),\n",
    "        in_reply_to_user_id varchar(30),\n",
    "        sentiment REAL,\n",
    "        text varchar(255),\n",
    "        created_at varchar(40), \n",
    "        user_location varchar(127), \n",
    "        in_reply_to_status_id varchar(40),\n",
    "        in_reply_to_screen_name varchar(30), \n",
    "        retweet_count INT, \n",
    "        favorite_count INT, \n",
    "        user_name varchar(40), \n",
    "        user_screen_name varchar(30), \n",
    "        user_id_str varchar(30),\n",
    "        is_agent_reply INT\n",
    "        );\n",
    "        \n",
    "        CREATE TABLE word_ids\n",
    "        (\n",
    "        id_str BIGINT,\n",
    "        word_id INT,\n",
    "        cluster_id INT,\n",
    "        user_id_str varchar(30)\n",
    "        );\n",
    "        CREATE INDEX word_id ON word_ids (word_id);\n",
    "        \n",
    "        CREATE TABLE cluster_ids\n",
    "        (\n",
    "        cluster_id INT\n",
    "        );\n",
    "        \"\"\")\n",
    "con.commit()\n",
    "con.close()\n"
   ]
  }
 ],
 "metadata": {
  "kernelspec": {
   "display_name": "Python 2",
   "language": "python",
   "name": "python2"
  },
  "language_info": {
   "codemirror_mode": {
    "name": "ipython",
    "version": 2
   },
   "file_extension": ".py",
   "mimetype": "text/x-python",
   "name": "python",
   "nbconvert_exporter": "python",
   "pygments_lexer": "ipython2",
   "version": "2.7.11"
  }
 },
 "nbformat": 4,
 "nbformat_minor": 0
}
