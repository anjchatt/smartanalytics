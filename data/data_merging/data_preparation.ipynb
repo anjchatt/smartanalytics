{
 "cells": [
  {
   "cell_type": "code",
   "execution_count": null,
   "metadata": {
    "collapsed": false
   },
   "outputs": [],
   "source": [
    "import pandas as pd\n",
    "from pymongo import MongoClient\n",
    "client = MongoClient()\n",
    "db = client['cdb']\n",
    "col = db['arr']"
   ]
  },
  {
   "cell_type": "code",
   "execution_count": null,
   "metadata": {
    "collapsed": true
   },
   "outputs": [],
   "source": [
    "def get_table(col, fields, id_field):\n",
    "    fields_keys = fields.keys()\n",
    "    fields_keys2 = fields_keys+[id_field]\n",
    "    query_params = {k:1 for k in fields_keys2}\n",
    "    docs = col.find({},query_params)\n",
    "    \n",
    "    data = []\n",
    "    idx = []\n",
    "    acc = 0\n",
    "    for doc in docs:\n",
    "        data.append([doc[k] for k in fields_keys])\n",
    "        idx.append(doc[id_field])\n",
    "        acc += 1\n",
    "    \n",
    "    return pd.DataFrame(data,columns = fields.values(),index=idx)"
   ]
  },
  {
   "cell_type": "code",
   "execution_count": null,
   "metadata": {
    "collapsed": false
   },
   "outputs": [],
   "source": [
    "personal_data_key_dict = {\n",
    "    u'Age':'age',\n",
    "    u'ChNum':'children_number',\n",
    "    u'Edu':'has_high_education',\n",
    "    u'Mar':'is_maried',\n",
    "    u'Name':'name',\n",
    "    u'SocialStat':'social_status',\n",
    "    u'State':'state',\n",
    "    u'WorkExp':'work_experience',\n",
    "    u'ZipCode':'zip',\n",
    "    u'Contact':'can_be_contacted'\n",
    "    }\n",
    "\n",
    "df = get_table(col, personal_data_key_dict, 'X_id')\n",
    "df.to_csv('data/01_personal_data.csv')"
   ]
  },
  {
   "cell_type": "code",
   "execution_count": null,
   "metadata": {
    "collapsed": true
   },
   "outputs": [],
   "source": [
    "bank_comm_data_key_dict = {\n",
    "    u'ATMUser':'used_atm_last_month',\n",
    "    u'CallCenter':'used_call_center_last_month',\n",
    "    u'LastContactData':'time_from_last_contact_date',\n",
    "    u'LifeChat':'used_life_chat_last_month',\n",
    "    u'PreferredContactChannel':'prefered_channel',\n",
    "    u'Website':'used_website_last_month',\n",
    "    u'has_fb_acc':'has_fb_account'\n",
    "    }\n",
    "\n",
    "df = get_table(col, bank_comm_data_key_dict, 'X_id')\n",
    "df.to_csv('data/02_bank_comm_data.csv')"
   ]
  },
  {
   "cell_type": "code",
   "execution_count": null,
   "metadata": {
    "collapsed": true
   },
   "outputs": [],
   "source": [
    "bank_fin_data_key_dict = {\n",
    "    u'BalanceDeposit':'deposit_balance',\n",
    "    u'BalanceLoan':'loan_balance',\n",
    "    u'CC':'has_credit_card',\n",
    "    u'CCBalance':'credit_card_balance',\n",
    "    u'Checking':'has_checking_account',\n",
    "    u'CheckingBalance':'checking_account_balance',\n",
    "    u'DepositCP':'deposit_products_profitability',\n",
    "    u'Home_eq':'has_home_equity_loan',\n",
    "    u'Home_eqBalance':'home_equity_loan_balance',\n",
    "    u'LoansCP':'loan_products_profitability',\n",
    "    u'MM':'has_money_market_product',\n",
    "    u'MMBalance':'money_market_balance',\n",
    "    u'Mortgage':'has_mortgage',\n",
    "    u'MortgageBalance':'mortgage_balance',\n",
    "    u'NIIDeposit':'deposit_products_nii',\n",
    "    u'NIILoan':'loan_products_nii',\n",
    "    u'REStat':'real_estate_status',\n",
    "    u'StLoan':'has_student_loan',\n",
    "    u'StLoanBalance':'student_loan_balance',\n",
    "    u'TotalCP':'customer_profitability',\n",
    "    u'Segment':'segment'\n",
    "}\n",
    "\n",
    "df = get_table(col, bank_fin_data_key_dict, 'X_id')\n",
    "df.to_csv('data/03_bank_fin_data.csv')\n"
   ]
  },
  {
   "cell_type": "code",
   "execution_count": null,
   "metadata": {
    "collapsed": false
   },
   "outputs": [],
   "source": [
    "bank_nbo_model_data_key_dict = {\n",
    "    u'nCC':'credit_card_nbo',\n",
    "    u'nHome_eq':'home_equity_loan_nbo',\n",
    "    u'nMortgage':'mortgage_nbo',\n",
    "    u'nStLoan':'student_loan_nbo',\n",
    "    u'nChecking':'checking_account_nbo',\n",
    "    u'nMM':'money_market_nbo'\n",
    "}\n",
    "\n",
    "df = get_table(col, bank_nbo_model_data_key_dict, 'X_id')\n",
    "df.to_csv('data/04_bank_nbo_model_data.csv')\n"
   ]
  },
  {
   "cell_type": "code",
   "execution_count": null,
   "metadata": {
    "collapsed": true
   },
   "outputs": [],
   "source": [
    "bank_cltv_model_data_key_dict = {\n",
    "    u'fp1y_prod':'cltv'\n",
    "}\n",
    "\n",
    "df = get_table(col, bank_cltv_model_data_key_dict, 'X_id')\n",
    "df.to_csv('data/05_bank_cltv_model_data.csv')\n"
   ]
  },
  {
   "cell_type": "code",
   "execution_count": null,
   "metadata": {
    "collapsed": false
   },
   "outputs": [],
   "source": [
    "bank_external_data_key_dict = {\n",
    "    u'CreditScore':'credit_score',\n",
    "    u'InvestableAssetIndicator':'investable_asset_indicator'\n",
    "}\n",
    "\n",
    "df = get_table(col, bank_external_data_key_dict, 'X_id')\n",
    "df.to_csv('data/06_bank_external_data.csv')\n"
   ]
  },
  {
   "cell_type": "code",
   "execution_count": null,
   "metadata": {
    "collapsed": true
   },
   "outputs": [],
   "source": [
    "\"\"\"\n",
    "bank_transaction_data_key_dict = {\n",
    "    u'geo.us':'geo_part_of_transactions_from_us',\n",
    "    u'geo.eu':'geo_part_of_transactions_from_eu',\n",
    "    u'geo.asia':'geo_part_of_transactions_from_asia',\n",
    "    u'geo.africa':'geo_part_of_transactions_from_africa',\n",
    "    u'curr.usd':'curr_part_of_transactions_in_usd',\n",
    "    u'curr.eu':'curr_part_of_transactions_in_eu',\n",
    "    u'curr.other':'curr_part_of_transactions_in_other_currency',\n",
    "    u'type.exch':'type_part_of_currency_exchange_transactions',\n",
    "    u'type.transf':'type_part_of_transfer_transactions',\n",
    "    u'type.buy':'type_part_of_shopping_transactions',\n",
    "    u'type.other':'type_part_of_other_transactions',\n",
    "    u'method.atm':'method_part_of_transactions_done_with_atm',\n",
    "    u'method.card':'method_part_of_transactions_done_with_card_offline',\n",
    "    u'method.ecom':'method_part_of_transactions_done_to_ecommerce_site',\n",
    "    u'method.webbank':'method_part_of_transactions_done_with_webbank',\n",
    "    u'method.mobile':'method_part_of_transactions_done_with_mobile_bank',\n",
    "    u'dest.mixed':'dest_part_of_transactions_done_to_mixed_dest',\n",
    "    u'dest.tech':'dest_part_of_transactions_done_to_electronics',\n",
    "    u'dest.restaurants':'dest_part_of_transactions_done_in_restraunts',\n",
    "    u'dest.grocery':'dest_part_of_transactions_done_in_grocery',\n",
    "    u'dest.serv':'dest_part_of_transactions_done_for_service',\n",
    "    u'dest.travel':'dest_part_of_transactions_done_for_travel_service',\n",
    "    u'dest.other':'dest_part_of_transactions_done_for_other_destinations'\n",
    "}\n",
    "\"\"\""
   ]
  },
  {
   "cell_type": "code",
   "execution_count": null,
   "metadata": {
    "collapsed": true
   },
   "outputs": [],
   "source": [
    "df = pd.read_csv('./LM_dataset.csv', ' ')"
   ]
  },
  {
   "cell_type": "code",
   "execution_count": null,
   "metadata": {
    "collapsed": true
   },
   "outputs": [],
   "source": [
    "df_ref = pd.read_csv('data/03_bank_fin_data.csv')\n",
    "valid_ids = (df_ref['has_credit_card'] + df_ref['has_checking_account'])>0.5\n",
    "df_ref = pd.read_csv('data/01_personal_data.csv')\n",
    "age_ref = df_ref[valid_ids]['age']\n",
    "age_ref = age_ref.to_dict()"
   ]
  },
  {
   "cell_type": "code",
   "execution_count": null,
   "metadata": {
    "collapsed": false
   },
   "outputs": [],
   "source": [
    "idx = []\n",
    "for age in df['age']:\n",
    "    for (id_,age2) in age_ref.iteritems():\n",
    "        if abs(age2 - age) < 5:\n",
    "            idx.append(id_)\n",
    "            age_ref[id_] = 200\n",
    "            break\n",
    "    if not len(idx)%1000:\n",
    "        age_ref = {k:v for k,v in age_ref.iteritems() if v<200}\n",
    "        print len(idx)"
   ]
  },
  {
   "cell_type": "code",
   "execution_count": null,
   "metadata": {
    "collapsed": true
   },
   "outputs": [],
   "source": [
    "transaction_keys = [u'geo.us', u'geo.eu', u'geo.asia', u'geo.africa', u'curr.usd',\n",
    "       u'curr.eu', u'curr.other', u'type.exch', u'type.transf', u'type.buy',\n",
    "       u'type.other', u'method.atm', u'method.card', u'method.ecom',\n",
    "       u'method.webbank', u'method.mobile', u'dest.mixed', u'dest.tech',\n",
    "       u'dest.restaurants', u'dest.grocery', u'dest.serv', u'dest.travel',\n",
    "       u'dest.other']\n",
    "\n",
    "behavior_keys = [u'commchan.mobileApp', u'commchan.web', u'commchan.ATM',\n",
    "       u'commchan.phone', u'dur.lt1m', u'dur.lt5m', u'dur.mt5m', u'sect.card',\n",
    "       u'sect.account', u'sect.loan', u'sect.offers', u'act.yes',\n",
    "       u'adresp.trav', u'adresp.clothes', u'adresp.rest', u'adresp.car']\n",
    "\n",
    "model_output_keys = [u'cluster_bh', u'cluster_tr']"
   ]
  },
  {
   "cell_type": "code",
   "execution_count": null,
   "metadata": {
    "collapsed": false
   },
   "outputs": [],
   "source": [
    "df.index = idx\n",
    "df[transaction_keys]\n"
   ]
  },
  {
   "cell_type": "code",
   "execution_count": null,
   "metadata": {
    "collapsed": false
   },
   "outputs": [],
   "source": [
    "df[transaction_keys].to_csv('data/07_bank_transaction_data.csv')\n",
    "df[behavior_keys].to_csv('data/08_bank_behavior_data.csv')\n",
    "df[model_output_keys].to_csv('data/09_cluster_data.csv')\n"
   ]
  },
  {
   "cell_type": "code",
   "execution_count": null,
   "metadata": {
    "collapsed": false
   },
   "outputs": [],
   "source": [
    "import hadoopy\n",
    "\n",
    "#hadoopy.mkdir('/user/smartanalytics/customer_data')\n",
    "p2 = '/user/smartanalytics/customer_data/'\n",
    "p = '/data/'\n",
    "hadoopy.put(p+'01_personal_data.csv',p2+'01_personal_data.csv')\n",
    "hadoopy.put(p+'02_bank_comm_data.csv',p2+'02_bank_comm_data.csv')\n",
    "hadoopy.put(p+'03_bank_fin_data.csv',p2+'03_bank_fin_data.csv')\n",
    "hadoopy.put(p+'04_bank_nbo_model_data.csv',p2+'04_bank_nbo_model_data.csv')\n",
    "hadoopy.put(p+'05_bank_cltv_model_data.csv',p2+'05_bank_cltv_model_data.csv')\n",
    "hadoopy.put(p+'06_bank_external_data.csv',p2+'06_bank_external_data.csv')\n",
    "hadoopy.put(p+'07_bank_transaction_data.csv',p2+'07_bank_transaction_data.csv')\n",
    "hadoopy.put(p+'08_bank_behavior_data.csv',p2+'08_bank_behavior_data.csv')\n",
    "hadoopy.put(p+'09_cluster_data.csv',p2+'09_cluster_data.csv')"
   ]
  },
  {
   "cell_type": "code",
   "execution_count": null,
   "metadata": {
    "collapsed": false
   },
   "outputs": [],
   "source": [
    "hadoopy.ls('/user/smartanalytics/customer_data/')"
   ]
  }
 ],
 "metadata": {
  "kernelspec": {
   "display_name": "Python 2",
   "language": "python",
   "name": "python2"
  },
  "language_info": {
   "codemirror_mode": {
    "name": "ipython",
    "version": 2
   },
   "file_extension": ".py",
   "mimetype": "text/x-python",
   "name": "python",
   "nbconvert_exporter": "python",
   "pygments_lexer": "ipython2",
   "version": "2.7.11"
  }
 },
 "nbformat": 4,
 "nbformat_minor": 0
}
